{
 "cells": [
  {
   "cell_type": "code",
   "execution_count": 1,
   "metadata": {
    "collapsed": false
   },
   "outputs": [],
   "source": [
    "%matplotlib inline\n",
    "import matplotlib\n",
    "import matplotlib.pyplot as plt\n",
    "import copy\n",
    "import numpy as np\n",
    "import pandas as pd\n",
    "import json\n",
    "import pickle\n",
    "import sklearn\n",
    "import scipy\n",
    "from pandasql import *\n",
    "from pandasql import sqldf\n",
    "from datetime import datetime\n",
    "from pandas.io.json import json_normalize\n",
    "import seaborn as sns\n",
    "import statsmodels.api as sm\n",
    "from statsmodels.formula.api import ols\n",
    "from collections import OrderedDict\n",
    "from sklearn.decomposition import PCA\n",
    "from sklearn.preprocessing import normalize, scale\n",
    "from statsmodels.regression.linear_model import OLS as reg\n",
    "from sklearn.linear_model import LinearRegression\n",
    "from sklearn.model_selection import train_test_split\n",
    "from sklearn import preprocessing\n",
    "from sklearn.ensemble import RandomForestRegressor\n",
    "from sklearn import ensemble\n",
    "from sklearn.model_selection import GridSearchCV\n",
    "from sklearn.preprocessing import Imputer\n",
    "plt.rcParams['figure.figsize'] = 9,7"
   ]
  },
  {
   "cell_type": "code",
   "execution_count": 399,
   "metadata": {
    "collapsed": true
   },
   "outputs": [],
   "source": [
    "def rmse(Y_test,Y_pred):   \n",
    "    return np.sqrt(sklearn.metrics.mean_squared_error(Y_test,Y_pred))"
   ]
  },
  {
   "cell_type": "code",
   "execution_count": 400,
   "metadata": {
    "collapsed": true
   },
   "outputs": [],
   "source": [
    "from pandasql import sqldf\n",
    "sql = lambda q: sqldf(q, globals()) "
   ]
  },
  {
   "cell_type": "code",
   "execution_count": 5,
   "metadata": {
    "collapsed": false
   },
   "outputs": [],
   "source": [
    "zzz='''\n",
    "Jupyter Notebook key shortcuts:\n",
    "<br>                            newline\n",
    "**text**                        bold\n",
    "# text, ## text, ### text       heading\n",
    "_text_                          italicize\n",
    "+ text                          bullet\n",
    "\n",
    "m                               markdown \n",
    "y                               code\n",
    "c                               copy   \n",
    "v                               paste\n",
    "b                               insert cell below\n",
    "a                               insert cell above \n",
    "\n",
    "File Location '/Users/Work/Desktop/Work/Projects/Wine'\n",
    "'''"
   ]
  },
  {
   "cell_type": "markdown",
   "metadata": {},
   "source": [
    "# Data Dictionary\n",
    "**INDEX**:  Identification Variable (do not use)<br>\n",
    "**TARGET**: Number of Cases Purchased\n",
    "\t\n",
    "**AcidIndex**: Proprietary method of testing total acidity of wine by using a weighted average<br>\n",
    "**Alcohol**: Alcohol Content<br>\n",
    "**Chlorides**: Chloride content of wine<br>\n",
    "**CitricAcid**: Citric Acid Content<br>\n",
    "**Density**: of Wine<br>\n",
    "**FixedAcidity**: Fixed Acidity of Wine<br>\n",
    "**FreeSulfurDioxide**: Sulfur Dioxide content of wine<br>\n",
    "**LabelAppeal**: Marketing Score indicating the appeal of label design for consumers. High numbers suggest customers like the label design. Negative numbers suggest customes don't like the design.<br>\n",
    "**ResidualSugar**: Residual Sugar of wine<br>\n",
    "**STARS**: Wine rating by a team of experts. 4 Stars = Excellent, 1 Star = Poor<br>\n",
    "**Sulphates**: Sulfate conten of wine<br>\n",
    "**TotalSulfurDioxide**: Total Sulfur Dioxide of Wine<br>\n",
    "**VolatileAcidity**: Volatile Acid content of wine<br>\n",
    "**pH**: pH of wine"
   ]
  },
  {
   "cell_type": "markdown",
   "metadata": {},
   "source": [
    "# Exploratory Data Analysis"
   ]
  },
  {
   "cell_type": "code",
   "execution_count": 401,
   "metadata": {
    "collapsed": false
   },
   "outputs": [],
   "source": [
    "wine=pd.read_csv('/Users/Work/Desktop/Work/Projects/Wine/wine.csv')"
   ]
  },
  {
   "cell_type": "code",
   "execution_count": 402,
   "metadata": {
    "collapsed": false
   },
   "outputs": [
    {
     "data": {
      "text/html": [
       "<div>\n",
       "<table border=\"1\" class=\"dataframe\">\n",
       "  <thead>\n",
       "    <tr style=\"text-align: right;\">\n",
       "      <th></th>\n",
       "      <th>INDEX</th>\n",
       "      <th>TARGET</th>\n",
       "      <th>FixedAcidity</th>\n",
       "      <th>VolatileAcidity</th>\n",
       "      <th>CitricAcid</th>\n",
       "      <th>ResidualSugar</th>\n",
       "      <th>Chlorides</th>\n",
       "      <th>FreeSulfurDioxide</th>\n",
       "      <th>TotalSulfurDioxide</th>\n",
       "      <th>Density</th>\n",
       "      <th>pH</th>\n",
       "      <th>Sulphates</th>\n",
       "      <th>Alcohol</th>\n",
       "      <th>LabelAppeal</th>\n",
       "      <th>AcidIndex</th>\n",
       "      <th>STARS</th>\n",
       "    </tr>\n",
       "  </thead>\n",
       "  <tbody>\n",
       "    <tr>\n",
       "      <th>0</th>\n",
       "      <td>1</td>\n",
       "      <td>3</td>\n",
       "      <td>3.2</td>\n",
       "      <td>1.160</td>\n",
       "      <td>-0.98</td>\n",
       "      <td>54.2</td>\n",
       "      <td>-0.567</td>\n",
       "      <td>NaN</td>\n",
       "      <td>268.0</td>\n",
       "      <td>0.99280</td>\n",
       "      <td>3.33</td>\n",
       "      <td>-0.59</td>\n",
       "      <td>9.9</td>\n",
       "      <td>0</td>\n",
       "      <td>8</td>\n",
       "      <td>2.0</td>\n",
       "    </tr>\n",
       "    <tr>\n",
       "      <th>1</th>\n",
       "      <td>2</td>\n",
       "      <td>3</td>\n",
       "      <td>4.5</td>\n",
       "      <td>0.160</td>\n",
       "      <td>-0.81</td>\n",
       "      <td>26.1</td>\n",
       "      <td>-0.425</td>\n",
       "      <td>15.0</td>\n",
       "      <td>-327.0</td>\n",
       "      <td>1.02792</td>\n",
       "      <td>3.38</td>\n",
       "      <td>0.70</td>\n",
       "      <td>NaN</td>\n",
       "      <td>-1</td>\n",
       "      <td>7</td>\n",
       "      <td>3.0</td>\n",
       "    </tr>\n",
       "    <tr>\n",
       "      <th>2</th>\n",
       "      <td>4</td>\n",
       "      <td>5</td>\n",
       "      <td>7.1</td>\n",
       "      <td>2.640</td>\n",
       "      <td>-0.88</td>\n",
       "      <td>14.8</td>\n",
       "      <td>0.037</td>\n",
       "      <td>214.0</td>\n",
       "      <td>142.0</td>\n",
       "      <td>0.99518</td>\n",
       "      <td>3.12</td>\n",
       "      <td>0.48</td>\n",
       "      <td>22.0</td>\n",
       "      <td>-1</td>\n",
       "      <td>8</td>\n",
       "      <td>3.0</td>\n",
       "    </tr>\n",
       "    <tr>\n",
       "      <th>3</th>\n",
       "      <td>5</td>\n",
       "      <td>3</td>\n",
       "      <td>5.7</td>\n",
       "      <td>0.385</td>\n",
       "      <td>0.04</td>\n",
       "      <td>18.8</td>\n",
       "      <td>-0.425</td>\n",
       "      <td>22.0</td>\n",
       "      <td>115.0</td>\n",
       "      <td>0.99640</td>\n",
       "      <td>2.24</td>\n",
       "      <td>1.83</td>\n",
       "      <td>6.2</td>\n",
       "      <td>-1</td>\n",
       "      <td>6</td>\n",
       "      <td>1.0</td>\n",
       "    </tr>\n",
       "    <tr>\n",
       "      <th>4</th>\n",
       "      <td>6</td>\n",
       "      <td>4</td>\n",
       "      <td>8.0</td>\n",
       "      <td>0.330</td>\n",
       "      <td>-1.26</td>\n",
       "      <td>9.4</td>\n",
       "      <td>NaN</td>\n",
       "      <td>-167.0</td>\n",
       "      <td>108.0</td>\n",
       "      <td>0.99457</td>\n",
       "      <td>3.12</td>\n",
       "      <td>1.77</td>\n",
       "      <td>13.7</td>\n",
       "      <td>0</td>\n",
       "      <td>9</td>\n",
       "      <td>2.0</td>\n",
       "    </tr>\n",
       "  </tbody>\n",
       "</table>\n",
       "</div>"
      ],
      "text/plain": [
       "   INDEX  TARGET  FixedAcidity  VolatileAcidity  CitricAcid  ResidualSugar  \\\n",
       "0  1      3       3.2           1.160           -0.98        54.2            \n",
       "1  2      3       4.5           0.160           -0.81        26.1            \n",
       "2  4      5       7.1           2.640           -0.88        14.8            \n",
       "3  5      3       5.7           0.385            0.04        18.8            \n",
       "4  6      4       8.0           0.330           -1.26        9.4             \n",
       "\n",
       "   Chlorides  FreeSulfurDioxide  TotalSulfurDioxide  Density    pH  Sulphates  \\\n",
       "0 -0.567     NaN                 268.0               0.99280  3.33 -0.59        \n",
       "1 -0.425      15.0              -327.0               1.02792  3.38  0.70        \n",
       "2  0.037      214.0              142.0               0.99518  3.12  0.48        \n",
       "3 -0.425      22.0               115.0               0.99640  2.24  1.83        \n",
       "4 NaN        -167.0              108.0               0.99457  3.12  1.77        \n",
       "\n",
       "   Alcohol  LabelAppeal  AcidIndex  STARS  \n",
       "0  9.9      0            8          2.0    \n",
       "1 NaN      -1            7          3.0    \n",
       "2  22.0    -1            8          3.0    \n",
       "3  6.2     -1            6          1.0    \n",
       "4  13.7     0            9          2.0    "
      ]
     },
     "execution_count": 402,
     "metadata": {},
     "output_type": "execute_result"
    }
   ],
   "source": [
    "wine.head()"
   ]
  },
  {
   "cell_type": "code",
   "execution_count": 403,
   "metadata": {
    "collapsed": false
   },
   "outputs": [],
   "source": [
    "#We don't need the index column and sql lite will get confused by it.\n",
    "wine=wine.drop('INDEX',axis=1)"
   ]
  },
  {
   "cell_type": "code",
   "execution_count": 404,
   "metadata": {
    "collapsed": false
   },
   "outputs": [
    {
     "data": {
      "text/plain": [
       "(12795, 15)"
      ]
     },
     "execution_count": 404,
     "metadata": {},
     "output_type": "execute_result"
    }
   ],
   "source": [
    "#(observations, columns)\n",
    "wine.shape"
   ]
  },
  {
   "cell_type": "code",
   "execution_count": 405,
   "metadata": {
    "collapsed": false
   },
   "outputs": [
    {
     "data": {
      "text/html": [
       "<div>\n",
       "<table border=\"1\" class=\"dataframe\">\n",
       "  <thead>\n",
       "    <tr style=\"text-align: right;\">\n",
       "      <th></th>\n",
       "      <th>TARGET</th>\n",
       "      <th>FixedAcidity</th>\n",
       "      <th>VolatileAcidity</th>\n",
       "      <th>CitricAcid</th>\n",
       "      <th>ResidualSugar</th>\n",
       "      <th>Chlorides</th>\n",
       "      <th>FreeSulfurDioxide</th>\n",
       "      <th>TotalSulfurDioxide</th>\n",
       "      <th>Density</th>\n",
       "      <th>pH</th>\n",
       "      <th>Sulphates</th>\n",
       "      <th>Alcohol</th>\n",
       "      <th>LabelAppeal</th>\n",
       "      <th>AcidIndex</th>\n",
       "      <th>STARS</th>\n",
       "    </tr>\n",
       "  </thead>\n",
       "  <tbody>\n",
       "    <tr>\n",
       "      <th>count</th>\n",
       "      <td>12795.000000</td>\n",
       "      <td>12795.000000</td>\n",
       "      <td>12795.000000</td>\n",
       "      <td>12795.000000</td>\n",
       "      <td>12179.000000</td>\n",
       "      <td>12157.000000</td>\n",
       "      <td>12148.000000</td>\n",
       "      <td>12113.000000</td>\n",
       "      <td>12795.000000</td>\n",
       "      <td>12400.000000</td>\n",
       "      <td>11585.000000</td>\n",
       "      <td>12142.000000</td>\n",
       "      <td>12795.000000</td>\n",
       "      <td>12795.000000</td>\n",
       "      <td>9436.000000</td>\n",
       "    </tr>\n",
       "    <tr>\n",
       "      <th>mean</th>\n",
       "      <td>3.029074</td>\n",
       "      <td>7.075717</td>\n",
       "      <td>0.324104</td>\n",
       "      <td>0.308413</td>\n",
       "      <td>5.418733</td>\n",
       "      <td>0.054822</td>\n",
       "      <td>30.845571</td>\n",
       "      <td>120.714233</td>\n",
       "      <td>0.994203</td>\n",
       "      <td>3.207628</td>\n",
       "      <td>0.527112</td>\n",
       "      <td>10.489236</td>\n",
       "      <td>-0.009066</td>\n",
       "      <td>7.772724</td>\n",
       "      <td>2.041755</td>\n",
       "    </tr>\n",
       "    <tr>\n",
       "      <th>std</th>\n",
       "      <td>1.926368</td>\n",
       "      <td>6.317643</td>\n",
       "      <td>0.784014</td>\n",
       "      <td>0.862080</td>\n",
       "      <td>33.749379</td>\n",
       "      <td>0.318467</td>\n",
       "      <td>148.714558</td>\n",
       "      <td>231.913211</td>\n",
       "      <td>0.026538</td>\n",
       "      <td>0.679687</td>\n",
       "      <td>0.932129</td>\n",
       "      <td>3.727819</td>\n",
       "      <td>0.891089</td>\n",
       "      <td>1.323926</td>\n",
       "      <td>0.902540</td>\n",
       "    </tr>\n",
       "    <tr>\n",
       "      <th>min</th>\n",
       "      <td>0.000000</td>\n",
       "      <td>-18.100000</td>\n",
       "      <td>-2.790000</td>\n",
       "      <td>-3.240000</td>\n",
       "      <td>-127.800000</td>\n",
       "      <td>-1.171000</td>\n",
       "      <td>-555.000000</td>\n",
       "      <td>-823.000000</td>\n",
       "      <td>0.888090</td>\n",
       "      <td>0.480000</td>\n",
       "      <td>-3.130000</td>\n",
       "      <td>-4.700000</td>\n",
       "      <td>-2.000000</td>\n",
       "      <td>4.000000</td>\n",
       "      <td>1.000000</td>\n",
       "    </tr>\n",
       "    <tr>\n",
       "      <th>25%</th>\n",
       "      <td>2.000000</td>\n",
       "      <td>5.200000</td>\n",
       "      <td>0.130000</td>\n",
       "      <td>0.030000</td>\n",
       "      <td>-2.000000</td>\n",
       "      <td>-0.031000</td>\n",
       "      <td>0.000000</td>\n",
       "      <td>27.000000</td>\n",
       "      <td>0.987720</td>\n",
       "      <td>2.960000</td>\n",
       "      <td>0.280000</td>\n",
       "      <td>9.000000</td>\n",
       "      <td>-1.000000</td>\n",
       "      <td>7.000000</td>\n",
       "      <td>1.000000</td>\n",
       "    </tr>\n",
       "    <tr>\n",
       "      <th>50%</th>\n",
       "      <td>3.000000</td>\n",
       "      <td>6.900000</td>\n",
       "      <td>0.280000</td>\n",
       "      <td>0.310000</td>\n",
       "      <td>3.900000</td>\n",
       "      <td>0.046000</td>\n",
       "      <td>30.000000</td>\n",
       "      <td>123.000000</td>\n",
       "      <td>0.994490</td>\n",
       "      <td>3.200000</td>\n",
       "      <td>0.500000</td>\n",
       "      <td>10.400000</td>\n",
       "      <td>0.000000</td>\n",
       "      <td>8.000000</td>\n",
       "      <td>2.000000</td>\n",
       "    </tr>\n",
       "    <tr>\n",
       "      <th>75%</th>\n",
       "      <td>4.000000</td>\n",
       "      <td>9.500000</td>\n",
       "      <td>0.640000</td>\n",
       "      <td>0.580000</td>\n",
       "      <td>15.900000</td>\n",
       "      <td>0.153000</td>\n",
       "      <td>70.000000</td>\n",
       "      <td>208.000000</td>\n",
       "      <td>1.000515</td>\n",
       "      <td>3.470000</td>\n",
       "      <td>0.860000</td>\n",
       "      <td>12.400000</td>\n",
       "      <td>1.000000</td>\n",
       "      <td>8.000000</td>\n",
       "      <td>3.000000</td>\n",
       "    </tr>\n",
       "    <tr>\n",
       "      <th>max</th>\n",
       "      <td>8.000000</td>\n",
       "      <td>34.400000</td>\n",
       "      <td>3.680000</td>\n",
       "      <td>3.860000</td>\n",
       "      <td>141.150000</td>\n",
       "      <td>1.351000</td>\n",
       "      <td>623.000000</td>\n",
       "      <td>1057.000000</td>\n",
       "      <td>1.099240</td>\n",
       "      <td>6.130000</td>\n",
       "      <td>4.240000</td>\n",
       "      <td>26.500000</td>\n",
       "      <td>2.000000</td>\n",
       "      <td>17.000000</td>\n",
       "      <td>4.000000</td>\n",
       "    </tr>\n",
       "  </tbody>\n",
       "</table>\n",
       "</div>"
      ],
      "text/plain": [
       "             TARGET  FixedAcidity  VolatileAcidity    CitricAcid  \\\n",
       "count  12795.000000  12795.000000  12795.000000     12795.000000   \n",
       "mean   3.029074      7.075717      0.324104         0.308413       \n",
       "std    1.926368      6.317643      0.784014         0.862080       \n",
       "min    0.000000     -18.100000    -2.790000        -3.240000       \n",
       "25%    2.000000      5.200000      0.130000         0.030000       \n",
       "50%    3.000000      6.900000      0.280000         0.310000       \n",
       "75%    4.000000      9.500000      0.640000         0.580000       \n",
       "max    8.000000      34.400000     3.680000         3.860000       \n",
       "\n",
       "       ResidualSugar     Chlorides  FreeSulfurDioxide  TotalSulfurDioxide  \\\n",
       "count  12179.000000   12157.000000  12148.000000       12113.000000         \n",
       "mean   5.418733       0.054822      30.845571          120.714233           \n",
       "std    33.749379      0.318467      148.714558         231.913211           \n",
       "min   -127.800000    -1.171000     -555.000000        -823.000000           \n",
       "25%   -2.000000      -0.031000      0.000000           27.000000            \n",
       "50%    3.900000       0.046000      30.000000          123.000000           \n",
       "75%    15.900000      0.153000      70.000000          208.000000           \n",
       "max    141.150000     1.351000      623.000000         1057.000000          \n",
       "\n",
       "            Density            pH     Sulphates       Alcohol   LabelAppeal  \\\n",
       "count  12795.000000  12400.000000  11585.000000  12142.000000  12795.000000   \n",
       "mean   0.994203      3.207628      0.527112      10.489236    -0.009066       \n",
       "std    0.026538      0.679687      0.932129      3.727819      0.891089       \n",
       "min    0.888090      0.480000     -3.130000     -4.700000     -2.000000       \n",
       "25%    0.987720      2.960000      0.280000      9.000000     -1.000000       \n",
       "50%    0.994490      3.200000      0.500000      10.400000     0.000000       \n",
       "75%    1.000515      3.470000      0.860000      12.400000     1.000000       \n",
       "max    1.099240      6.130000      4.240000      26.500000     2.000000       \n",
       "\n",
       "          AcidIndex        STARS  \n",
       "count  12795.000000  9436.000000  \n",
       "mean   7.772724      2.041755     \n",
       "std    1.323926      0.902540     \n",
       "min    4.000000      1.000000     \n",
       "25%    7.000000      1.000000     \n",
       "50%    8.000000      2.000000     \n",
       "75%    8.000000      3.000000     \n",
       "max    17.000000     4.000000     "
      ]
     },
     "execution_count": 405,
     "metadata": {},
     "output_type": "execute_result"
    }
   ],
   "source": [
    "winetable.describe()"
   ]
  },
  {
   "cell_type": "code",
   "execution_count": 406,
   "metadata": {
    "collapsed": false
   },
   "outputs": [
    {
     "data": {
      "text/plain": [
       "TARGET                8.00000   \n",
       "FixedAcidity          52.50000  \n",
       "VolatileAcidity       6.47000   \n",
       "CitricAcid            7.10000   \n",
       "ResidualSugar         268.95000 \n",
       "Chlorides             2.52200   \n",
       "FreeSulfurDioxide     1178.00000\n",
       "TotalSulfurDioxide    1880.00000\n",
       "Density               0.21115   \n",
       "pH                    5.65000   \n",
       "Sulphates             7.37000   \n",
       "Alcohol               31.20000  \n",
       "LabelAppeal           4.00000   \n",
       "AcidIndex             13.00000  \n",
       "STARS                 3.00000   \n",
       "dtype: float64"
      ]
     },
     "execution_count": 406,
     "metadata": {},
     "output_type": "execute_result"
    }
   ],
   "source": [
    "# range of values, notice that 3 variables have large ranges, and as shown in the correlation \n",
    "#table, have low correlations (trimming them might be to our advantage, then).\n",
    "wine.max()-wine.min()"
   ]
  },
  {
   "cell_type": "code",
   "execution_count": 407,
   "metadata": {
    "collapsed": false
   },
   "outputs": [
    {
     "data": {
      "text/plain": [
       "4    3177\n",
       "0    2734\n",
       "3    2611\n",
       "5    2014\n",
       "2    1091\n",
       "6    765 \n",
       "1    244 \n",
       "7    142 \n",
       "8    17  \n",
       "Name: TARGET, dtype: int64"
      ]
     },
     "execution_count": 407,
     "metadata": {},
     "output_type": "execute_result"
    }
   ],
   "source": [
    "wine.TARGET.value_counts()"
   ]
  },
  {
   "cell_type": "code",
   "execution_count": 408,
   "metadata": {
    "collapsed": false
   },
   "outputs": [
    {
     "data": {
      "text/html": [
       "<div>\n",
       "<table border=\"1\" class=\"dataframe\">\n",
       "  <thead>\n",
       "    <tr style=\"text-align: right;\">\n",
       "      <th></th>\n",
       "      <th>TARGET</th>\n",
       "      <th>COUNT</th>\n",
       "    </tr>\n",
       "  </thead>\n",
       "  <tbody>\n",
       "    <tr>\n",
       "      <th>0</th>\n",
       "      <td>4.0</td>\n",
       "      <td>3177</td>\n",
       "    </tr>\n",
       "    <tr>\n",
       "      <th>1</th>\n",
       "      <td>0.0</td>\n",
       "      <td>2734</td>\n",
       "    </tr>\n",
       "    <tr>\n",
       "      <th>2</th>\n",
       "      <td>3.0</td>\n",
       "      <td>2611</td>\n",
       "    </tr>\n",
       "    <tr>\n",
       "      <th>3</th>\n",
       "      <td>5.0</td>\n",
       "      <td>2014</td>\n",
       "    </tr>\n",
       "    <tr>\n",
       "      <th>4</th>\n",
       "      <td>2.0</td>\n",
       "      <td>1091</td>\n",
       "    </tr>\n",
       "    <tr>\n",
       "      <th>5</th>\n",
       "      <td>6.0</td>\n",
       "      <td>765</td>\n",
       "    </tr>\n",
       "    <tr>\n",
       "      <th>6</th>\n",
       "      <td>1.0</td>\n",
       "      <td>244</td>\n",
       "    </tr>\n",
       "    <tr>\n",
       "      <th>7</th>\n",
       "      <td>7.0</td>\n",
       "      <td>142</td>\n",
       "    </tr>\n",
       "    <tr>\n",
       "      <th>8</th>\n",
       "      <td>8.0</td>\n",
       "      <td>17</td>\n",
       "    </tr>\n",
       "  </tbody>\n",
       "</table>\n",
       "</div>"
      ],
      "text/plain": [
       "   TARGET  COUNT\n",
       "0  4.0     3177 \n",
       "1  0.0     2734 \n",
       "2  3.0     2611 \n",
       "3  5.0     2014 \n",
       "4  2.0     1091 \n",
       "5  6.0     765  \n",
       "6  1.0     244  \n",
       "7  7.0     142  \n",
       "8  8.0     17   "
      ]
     },
     "execution_count": 408,
     "metadata": {},
     "output_type": "execute_result"
    }
   ],
   "source": [
    "#Using SQL to do the above (takes longer)\n",
    "q='''\n",
    "SELECT TARGET, COUNT(*) AS COUNT\n",
    "FROM wine\n",
    "GROUP BY TARGET\n",
    "ORDER BY COUNT DESC\n",
    "'''\n",
    "sql(q)"
   ]
  },
  {
   "cell_type": "code",
   "execution_count": 409,
   "metadata": {
    "collapsed": false
   },
   "outputs": [
    {
     "data": {
      "text/plain": [
       "<matplotlib.axes._subplots.AxesSubplot at 0x11c2f8a90>"
      ]
     },
     "execution_count": 409,
     "metadata": {},
     "output_type": "execute_result"
    },
    {
     "data": {
      "image/png": "[encoded data removed]",
      "text/plain": [
       "<matplotlib.figure.Figure at 0x11c2fb050>"
      ]
     },
     "metadata": {},
     "output_type": "display_data"
    }
   ],
   "source": [
    "wine.TARGET.hist()"
   ]
  },
  {
   "cell_type": "markdown",
   "metadata": {},
   "source": [
    "## Missing Values"
   ]
  },
  {
   "cell_type": "code",
   "execution_count": 410,
   "metadata": {
    "collapsed": false
   },
   "outputs": [
    {
     "data": {
      "text/plain": [
       "TARGET                0   \n",
       "FixedAcidity          0   \n",
       "VolatileAcidity       0   \n",
       "CitricAcid            0   \n",
       "ResidualSugar         616 \n",
       "Chlorides             638 \n",
       "FreeSulfurDioxide     647 \n",
       "TotalSulfurDioxide    682 \n",
       "Density               0   \n",
       "pH                    395 \n",
       "Sulphates             1210\n",
       "Alcohol               653 \n",
       "LabelAppeal           0   \n",
       "AcidIndex             0   \n",
       "STARS                 3359\n",
       "dtype: int64"
      ]
     },
     "execution_count": 410,
     "metadata": {},
     "output_type": "execute_result"
    }
   ],
   "source": [
    "#Count of missing values\n",
    "wine.isnull().sum(axis=0)"
   ]
  },
  {
   "cell_type": "code",
   "execution_count": 424,
   "metadata": {
    "collapsed": false
   },
   "outputs": [],
   "source": [
    "wine_flag=copy.deepcopy(wine)\n",
    "X_Vars=list(X.columns.values)[1:]\n",
    "for j in X_Vars:\n",
    "    if wine_flag[j].isnull().any()==True:\n",
    "        wine_flag['m_'+j]=wine_flag[j].isnull()*1 "
   ]
  },
  {
   "cell_type": "code",
   "execution_count": 426,
   "metadata": {
    "collapsed": false
   },
   "outputs": [
    {
     "data": {
      "text/plain": [
       "<matplotlib.axes._subplots.AxesSubplot at 0x122133610>"
      ]
     },
     "execution_count": 426,
     "metadata": {},
     "output_type": "execute_result"
    },
    {
     "data": {
      "image/png": "[encoded data removed]",
      "text/plain": [
       "<matplotlib.figure.Figure at 0x122159a50>"
      ]
     },
     "metadata": {},
     "output_type": "display_data"
    }
   ],
   "source": [
    "#Investigating number of missing values for each TARGET value using SQL, pandas, \n",
    "#and the seaborn visualization library\n",
    "q='''\n",
    "select count(m_stars) Count\n",
    "from wine_flag \n",
    "where m_stars=1\n",
    "group by target\n",
    "'''\n",
    "missing_stars=sql(q)\n",
    "missing_stars.columns=['Missing Stars Count']\n",
    "missing_stars.index.name='TARGET'\n",
    "missing_stars=missing_stars.reset_index()\n",
    "sns.barplot(x='TARGET',y='Missing Stars Count', data=missing_stars,estimator=sum)"
   ]
  },
  {
   "cell_type": "code",
   "execution_count": 427,
   "metadata": {
    "collapsed": false
   },
   "outputs": [
    {
     "data": {
      "text/html": [
       "<div>\n",
       "<table border=\"1\" class=\"dataframe\">\n",
       "  <thead>\n",
       "    <tr style=\"text-align: right;\">\n",
       "      <th></th>\n",
       "      <th>TARGET</th>\n",
       "      <th>AVG(STARS)</th>\n",
       "    </tr>\n",
       "  </thead>\n",
       "  <tbody>\n",
       "    <tr>\n",
       "      <th>0</th>\n",
       "      <td>0.0</td>\n",
       "      <td>1.1</td>\n",
       "    </tr>\n",
       "    <tr>\n",
       "      <th>1</th>\n",
       "      <td>1.0</td>\n",
       "      <td>1.2</td>\n",
       "    </tr>\n",
       "    <tr>\n",
       "      <th>2</th>\n",
       "      <td>2.0</td>\n",
       "      <td>1.4</td>\n",
       "    </tr>\n",
       "    <tr>\n",
       "      <th>3</th>\n",
       "      <td>3.0</td>\n",
       "      <td>1.7</td>\n",
       "    </tr>\n",
       "    <tr>\n",
       "      <th>4</th>\n",
       "      <td>4.0</td>\n",
       "      <td>2.1</td>\n",
       "    </tr>\n",
       "    <tr>\n",
       "      <th>5</th>\n",
       "      <td>5.0</td>\n",
       "      <td>2.5</td>\n",
       "    </tr>\n",
       "    <tr>\n",
       "      <th>6</th>\n",
       "      <td>6.0</td>\n",
       "      <td>2.9</td>\n",
       "    </tr>\n",
       "    <tr>\n",
       "      <th>7</th>\n",
       "      <td>7.0</td>\n",
       "      <td>3.4</td>\n",
       "    </tr>\n",
       "    <tr>\n",
       "      <th>8</th>\n",
       "      <td>8.0</td>\n",
       "      <td>3.7</td>\n",
       "    </tr>\n",
       "  </tbody>\n",
       "</table>\n",
       "</div>"
      ],
      "text/plain": [
       "   TARGET  AVG(STARS)\n",
       "0  0.0     1.1       \n",
       "1  1.0     1.2       \n",
       "2  2.0     1.4       \n",
       "3  3.0     1.7       \n",
       "4  4.0     2.1       \n",
       "5  5.0     2.5       \n",
       "6  6.0     2.9       \n",
       "7  7.0     3.4       \n",
       "8  8.0     3.7       "
      ]
     },
     "execution_count": 427,
     "metadata": {},
     "output_type": "execute_result"
    }
   ],
   "source": [
    "q='''\n",
    "SELECT target, AVG(STARS) \n",
    "FROM wine\n",
    "GROUP BY target\n",
    "'''\n",
    "avgstars=pd.DataFrame({'TARGET':sql(q)['TARGET'].values,'AVG(STARS)':\\\n",
    "                       np.round(sql(q)['AVG(STARS)'].values,1)})\n",
    "avgstars[['TARGET','AVG(STARS)']]"
   ]
  },
  {
   "cell_type": "code",
   "execution_count": null,
   "metadata": {
    "collapsed": true
   },
   "outputs": [],
   "source": []
  },
  {
   "cell_type": "markdown",
   "metadata": {},
   "source": [
    "## Correlations"
   ]
  },
  {
   "cell_type": "code",
   "execution_count": 428,
   "metadata": {
    "collapsed": true
   },
   "outputs": [],
   "source": [
    "pd.set_option('display.max_columns', None)  #set max number of columns to None"
   ]
  },
  {
   "cell_type": "code",
   "execution_count": 368,
   "metadata": {
    "collapsed": false
   },
   "outputs": [
    {
     "data": {
      "text/html": [
       "<div>\n",
       "<table border=\"1\" class=\"dataframe\">\n",
       "  <thead>\n",
       "    <tr style=\"text-align: right;\">\n",
       "      <th></th>\n",
       "      <th>TARGET</th>\n",
       "      <th>FixedAcidity</th>\n",
       "      <th>VolatileAcidity</th>\n",
       "      <th>CitricAcid</th>\n",
       "      <th>ResidualSugar</th>\n",
       "      <th>Chlorides</th>\n",
       "      <th>FreeSulfurDioxide</th>\n",
       "      <th>TotalSulfurDioxide</th>\n",
       "      <th>Density</th>\n",
       "      <th>pH</th>\n",
       "      <th>Sulphates</th>\n",
       "      <th>Alcohol</th>\n",
       "      <th>LabelAppeal</th>\n",
       "      <th>AcidIndex</th>\n",
       "      <th>STARS</th>\n",
       "      <th>m_ResidualSugar</th>\n",
       "      <th>m_Chlorides</th>\n",
       "      <th>m_FreeSulfurDioxide</th>\n",
       "      <th>m_TotalSulfurDioxide</th>\n",
       "      <th>m_pH</th>\n",
       "      <th>m_Sulphates</th>\n",
       "      <th>m_Alcohol</th>\n",
       "      <th>m_STARS</th>\n",
       "    </tr>\n",
       "  </thead>\n",
       "  <tbody>\n",
       "    <tr>\n",
       "      <th>TARGET</th>\n",
       "      <td>1.000000</td>\n",
       "      <td>-0.049011</td>\n",
       "      <td>-0.088793</td>\n",
       "      <td>0.008685</td>\n",
       "      <td>0.016491</td>\n",
       "      <td>-0.038263</td>\n",
       "      <td>0.043824</td>\n",
       "      <td>0.051478</td>\n",
       "      <td>-0.035518</td>\n",
       "      <td>-0.009445</td>\n",
       "      <td>-0.038850</td>\n",
       "      <td>0.062062</td>\n",
       "      <td>0.356500</td>\n",
       "      <td>-0.246049</td>\n",
       "      <td>0.558794</td>\n",
       "      <td>NaN</td>\n",
       "      <td>NaN</td>\n",
       "      <td>NaN</td>\n",
       "      <td>NaN</td>\n",
       "      <td>NaN</td>\n",
       "      <td>NaN</td>\n",
       "      <td>NaN</td>\n",
       "      <td>NaN</td>\n",
       "    </tr>\n",
       "    <tr>\n",
       "      <th>FixedAcidity</th>\n",
       "      <td>-0.049011</td>\n",
       "      <td>1.000000</td>\n",
       "      <td>0.012375</td>\n",
       "      <td>0.014240</td>\n",
       "      <td>-0.018855</td>\n",
       "      <td>-0.000457</td>\n",
       "      <td>0.004972</td>\n",
       "      <td>-0.022498</td>\n",
       "      <td>0.006477</td>\n",
       "      <td>-0.008983</td>\n",
       "      <td>0.030783</td>\n",
       "      <td>-0.009371</td>\n",
       "      <td>-0.003366</td>\n",
       "      <td>0.178437</td>\n",
       "      <td>-0.006628</td>\n",
       "      <td>NaN</td>\n",
       "      <td>NaN</td>\n",
       "      <td>NaN</td>\n",
       "      <td>NaN</td>\n",
       "      <td>NaN</td>\n",
       "      <td>NaN</td>\n",
       "      <td>NaN</td>\n",
       "      <td>NaN</td>\n",
       "    </tr>\n",
       "    <tr>\n",
       "      <th>VolatileAcidity</th>\n",
       "      <td>-0.088793</td>\n",
       "      <td>0.012375</td>\n",
       "      <td>1.000000</td>\n",
       "      <td>-0.016953</td>\n",
       "      <td>-0.006483</td>\n",
       "      <td>0.000987</td>\n",
       "      <td>-0.007077</td>\n",
       "      <td>-0.021080</td>\n",
       "      <td>0.014735</td>\n",
       "      <td>0.013592</td>\n",
       "      <td>0.000129</td>\n",
       "      <td>0.004073</td>\n",
       "      <td>-0.016987</td>\n",
       "      <td>0.044642</td>\n",
       "      <td>-0.034431</td>\n",
       "      <td>NaN</td>\n",
       "      <td>NaN</td>\n",
       "      <td>NaN</td>\n",
       "      <td>NaN</td>\n",
       "      <td>NaN</td>\n",
       "      <td>NaN</td>\n",
       "      <td>NaN</td>\n",
       "      <td>NaN</td>\n",
       "    </tr>\n",
       "    <tr>\n",
       "      <th>CitricAcid</th>\n",
       "      <td>0.008685</td>\n",
       "      <td>0.014240</td>\n",
       "      <td>-0.016953</td>\n",
       "      <td>1.000000</td>\n",
       "      <td>-0.006940</td>\n",
       "      <td>-0.008567</td>\n",
       "      <td>0.006428</td>\n",
       "      <td>0.006320</td>\n",
       "      <td>-0.013952</td>\n",
       "      <td>-0.008709</td>\n",
       "      <td>-0.012989</td>\n",
       "      <td>0.017046</td>\n",
       "      <td>0.008650</td>\n",
       "      <td>0.065697</td>\n",
       "      <td>0.000665</td>\n",
       "      <td>NaN</td>\n",
       "      <td>NaN</td>\n",
       "      <td>NaN</td>\n",
       "      <td>NaN</td>\n",
       "      <td>NaN</td>\n",
       "      <td>NaN</td>\n",
       "      <td>NaN</td>\n",
       "      <td>NaN</td>\n",
       "    </tr>\n",
       "    <tr>\n",
       "      <th>ResidualSugar</th>\n",
       "      <td>0.016491</td>\n",
       "      <td>-0.018855</td>\n",
       "      <td>-0.006483</td>\n",
       "      <td>-0.006940</td>\n",
       "      <td>1.000000</td>\n",
       "      <td>-0.005594</td>\n",
       "      <td>0.017493</td>\n",
       "      <td>0.022479</td>\n",
       "      <td>0.004101</td>\n",
       "      <td>0.012118</td>\n",
       "      <td>-0.007723</td>\n",
       "      <td>-0.019998</td>\n",
       "      <td>0.002320</td>\n",
       "      <td>-0.009414</td>\n",
       "      <td>0.016741</td>\n",
       "      <td>NaN</td>\n",
       "      <td>NaN</td>\n",
       "      <td>NaN</td>\n",
       "      <td>NaN</td>\n",
       "      <td>NaN</td>\n",
       "      <td>NaN</td>\n",
       "      <td>NaN</td>\n",
       "      <td>NaN</td>\n",
       "    </tr>\n",
       "    <tr>\n",
       "      <th>Chlorides</th>\n",
       "      <td>-0.038263</td>\n",
       "      <td>-0.000457</td>\n",
       "      <td>0.000987</td>\n",
       "      <td>-0.008567</td>\n",
       "      <td>-0.005594</td>\n",
       "      <td>1.000000</td>\n",
       "      <td>-0.020661</td>\n",
       "      <td>-0.013994</td>\n",
       "      <td>0.022657</td>\n",
       "      <td>-0.017605</td>\n",
       "      <td>-0.003290</td>\n",
       "      <td>-0.019695</td>\n",
       "      <td>0.010509</td>\n",
       "      <td>0.025238</td>\n",
       "      <td>-0.004931</td>\n",
       "      <td>NaN</td>\n",
       "      <td>NaN</td>\n",
       "      <td>NaN</td>\n",
       "      <td>NaN</td>\n",
       "      <td>NaN</td>\n",
       "      <td>NaN</td>\n",
       "      <td>NaN</td>\n",
       "      <td>NaN</td>\n",
       "    </tr>\n",
       "    <tr>\n",
       "      <th>FreeSulfurDioxide</th>\n",
       "      <td>0.043824</td>\n",
       "      <td>0.004972</td>\n",
       "      <td>-0.007077</td>\n",
       "      <td>0.006428</td>\n",
       "      <td>0.017493</td>\n",
       "      <td>-0.020661</td>\n",
       "      <td>1.000000</td>\n",
       "      <td>0.013720</td>\n",
       "      <td>0.003176</td>\n",
       "      <td>0.006049</td>\n",
       "      <td>0.011593</td>\n",
       "      <td>-0.018588</td>\n",
       "      <td>0.010294</td>\n",
       "      <td>-0.041717</td>\n",
       "      <td>-0.009082</td>\n",
       "      <td>NaN</td>\n",
       "      <td>NaN</td>\n",
       "      <td>NaN</td>\n",
       "      <td>NaN</td>\n",
       "      <td>NaN</td>\n",
       "      <td>NaN</td>\n",
       "      <td>NaN</td>\n",
       "      <td>NaN</td>\n",
       "    </tr>\n",
       "    <tr>\n",
       "      <th>TotalSulfurDioxide</th>\n",
       "      <td>0.051478</td>\n",
       "      <td>-0.022498</td>\n",
       "      <td>-0.021080</td>\n",
       "      <td>0.006320</td>\n",
       "      <td>0.022479</td>\n",
       "      <td>-0.013994</td>\n",
       "      <td>0.013720</td>\n",
       "      <td>1.000000</td>\n",
       "      <td>0.012816</td>\n",
       "      <td>-0.004343</td>\n",
       "      <td>-0.007133</td>\n",
       "      <td>-0.015957</td>\n",
       "      <td>-0.009747</td>\n",
       "      <td>-0.049311</td>\n",
       "      <td>0.013929</td>\n",
       "      <td>NaN</td>\n",
       "      <td>NaN</td>\n",
       "      <td>NaN</td>\n",
       "      <td>NaN</td>\n",
       "      <td>NaN</td>\n",
       "      <td>NaN</td>\n",
       "      <td>NaN</td>\n",
       "      <td>NaN</td>\n",
       "    </tr>\n",
       "    <tr>\n",
       "      <th>Density</th>\n",
       "      <td>-0.035518</td>\n",
       "      <td>0.006477</td>\n",
       "      <td>0.014735</td>\n",
       "      <td>-0.013952</td>\n",
       "      <td>0.004101</td>\n",
       "      <td>0.022657</td>\n",
       "      <td>0.003176</td>\n",
       "      <td>0.012816</td>\n",
       "      <td>1.000000</td>\n",
       "      <td>0.005768</td>\n",
       "      <td>-0.009059</td>\n",
       "      <td>-0.007215</td>\n",
       "      <td>-0.009370</td>\n",
       "      <td>0.040413</td>\n",
       "      <td>-0.018284</td>\n",
       "      <td>NaN</td>\n",
       "      <td>NaN</td>\n",
       "      <td>NaN</td>\n",
       "      <td>NaN</td>\n",
       "      <td>NaN</td>\n",
       "      <td>NaN</td>\n",
       "      <td>NaN</td>\n",
       "      <td>NaN</td>\n",
       "    </tr>\n",
       "    <tr>\n",
       "      <th>pH</th>\n",
       "      <td>-0.009445</td>\n",
       "      <td>-0.008983</td>\n",
       "      <td>0.013592</td>\n",
       "      <td>-0.008709</td>\n",
       "      <td>0.012118</td>\n",
       "      <td>-0.017605</td>\n",
       "      <td>0.006049</td>\n",
       "      <td>-0.004343</td>\n",
       "      <td>0.005768</td>\n",
       "      <td>1.000000</td>\n",
       "      <td>0.005475</td>\n",
       "      <td>-0.011548</td>\n",
       "      <td>0.004138</td>\n",
       "      <td>-0.058676</td>\n",
       "      <td>-0.000488</td>\n",
       "      <td>NaN</td>\n",
       "      <td>NaN</td>\n",
       "      <td>NaN</td>\n",
       "      <td>NaN</td>\n",
       "      <td>NaN</td>\n",
       "      <td>NaN</td>\n",
       "      <td>NaN</td>\n",
       "      <td>NaN</td>\n",
       "    </tr>\n",
       "    <tr>\n",
       "      <th>Sulphates</th>\n",
       "      <td>-0.038850</td>\n",
       "      <td>0.030783</td>\n",
       "      <td>0.000129</td>\n",
       "      <td>-0.012989</td>\n",
       "      <td>-0.007723</td>\n",
       "      <td>-0.003290</td>\n",
       "      <td>0.011593</td>\n",
       "      <td>-0.007133</td>\n",
       "      <td>-0.009059</td>\n",
       "      <td>0.005475</td>\n",
       "      <td>1.000000</td>\n",
       "      <td>0.004741</td>\n",
       "      <td>-0.003888</td>\n",
       "      <td>0.034449</td>\n",
       "      <td>-0.012306</td>\n",
       "      <td>NaN</td>\n",
       "      <td>NaN</td>\n",
       "      <td>NaN</td>\n",
       "      <td>NaN</td>\n",
       "      <td>NaN</td>\n",
       "      <td>NaN</td>\n",
       "      <td>NaN</td>\n",
       "      <td>NaN</td>\n",
       "    </tr>\n",
       "    <tr>\n",
       "      <th>Alcohol</th>\n",
       "      <td>0.062062</td>\n",
       "      <td>-0.009371</td>\n",
       "      <td>0.004073</td>\n",
       "      <td>0.017046</td>\n",
       "      <td>-0.019998</td>\n",
       "      <td>-0.019695</td>\n",
       "      <td>-0.018588</td>\n",
       "      <td>-0.015957</td>\n",
       "      <td>-0.007215</td>\n",
       "      <td>-0.011548</td>\n",
       "      <td>0.004741</td>\n",
       "      <td>1.000000</td>\n",
       "      <td>0.001027</td>\n",
       "      <td>-0.038138</td>\n",
       "      <td>0.065220</td>\n",
       "      <td>NaN</td>\n",
       "      <td>NaN</td>\n",
       "      <td>NaN</td>\n",
       "      <td>NaN</td>\n",
       "      <td>NaN</td>\n",
       "      <td>NaN</td>\n",
       "      <td>NaN</td>\n",
       "      <td>NaN</td>\n",
       "    </tr>\n",
       "    <tr>\n",
       "      <th>LabelAppeal</th>\n",
       "      <td>0.356500</td>\n",
       "      <td>-0.003366</td>\n",
       "      <td>-0.016987</td>\n",
       "      <td>0.008650</td>\n",
       "      <td>0.002320</td>\n",
       "      <td>0.010509</td>\n",
       "      <td>0.010294</td>\n",
       "      <td>-0.009747</td>\n",
       "      <td>-0.009370</td>\n",
       "      <td>0.004138</td>\n",
       "      <td>-0.003888</td>\n",
       "      <td>0.001027</td>\n",
       "      <td>1.000000</td>\n",
       "      <td>0.024755</td>\n",
       "      <td>0.334788</td>\n",
       "      <td>NaN</td>\n",
       "      <td>NaN</td>\n",
       "      <td>NaN</td>\n",
       "      <td>NaN</td>\n",
       "      <td>NaN</td>\n",
       "      <td>NaN</td>\n",
       "      <td>NaN</td>\n",
       "      <td>NaN</td>\n",
       "    </tr>\n",
       "    <tr>\n",
       "      <th>AcidIndex</th>\n",
       "      <td>-0.246049</td>\n",
       "      <td>0.178437</td>\n",
       "      <td>0.044642</td>\n",
       "      <td>0.065697</td>\n",
       "      <td>-0.009414</td>\n",
       "      <td>0.025238</td>\n",
       "      <td>-0.041717</td>\n",
       "      <td>-0.049311</td>\n",
       "      <td>0.040413</td>\n",
       "      <td>-0.058676</td>\n",
       "      <td>0.034449</td>\n",
       "      <td>-0.038138</td>\n",
       "      <td>0.024755</td>\n",
       "      <td>1.000000</td>\n",
       "      <td>-0.086259</td>\n",
       "      <td>NaN</td>\n",
       "      <td>NaN</td>\n",
       "      <td>NaN</td>\n",
       "      <td>NaN</td>\n",
       "      <td>NaN</td>\n",
       "      <td>NaN</td>\n",
       "      <td>NaN</td>\n",
       "      <td>NaN</td>\n",
       "    </tr>\n",
       "    <tr>\n",
       "      <th>STARS</th>\n",
       "      <td>0.558794</td>\n",
       "      <td>-0.006628</td>\n",
       "      <td>-0.034431</td>\n",
       "      <td>0.000665</td>\n",
       "      <td>0.016741</td>\n",
       "      <td>-0.004931</td>\n",
       "      <td>-0.009082</td>\n",
       "      <td>0.013929</td>\n",
       "      <td>-0.018284</td>\n",
       "      <td>-0.000488</td>\n",
       "      <td>-0.012306</td>\n",
       "      <td>0.065220</td>\n",
       "      <td>0.334788</td>\n",
       "      <td>-0.086259</td>\n",
       "      <td>1.000000</td>\n",
       "      <td>NaN</td>\n",
       "      <td>NaN</td>\n",
       "      <td>NaN</td>\n",
       "      <td>NaN</td>\n",
       "      <td>NaN</td>\n",
       "      <td>NaN</td>\n",
       "      <td>NaN</td>\n",
       "      <td>NaN</td>\n",
       "    </tr>\n",
       "    <tr>\n",
       "      <th>m_ResidualSugar</th>\n",
       "      <td>NaN</td>\n",
       "      <td>NaN</td>\n",
       "      <td>NaN</td>\n",
       "      <td>NaN</td>\n",
       "      <td>NaN</td>\n",
       "      <td>NaN</td>\n",
       "      <td>NaN</td>\n",
       "      <td>NaN</td>\n",
       "      <td>NaN</td>\n",
       "      <td>NaN</td>\n",
       "      <td>NaN</td>\n",
       "      <td>NaN</td>\n",
       "      <td>NaN</td>\n",
       "      <td>NaN</td>\n",
       "      <td>NaN</td>\n",
       "      <td>NaN</td>\n",
       "      <td>NaN</td>\n",
       "      <td>NaN</td>\n",
       "      <td>NaN</td>\n",
       "      <td>NaN</td>\n",
       "      <td>NaN</td>\n",
       "      <td>NaN</td>\n",
       "      <td>NaN</td>\n",
       "    </tr>\n",
       "    <tr>\n",
       "      <th>m_Chlorides</th>\n",
       "      <td>NaN</td>\n",
       "      <td>NaN</td>\n",
       "      <td>NaN</td>\n",
       "      <td>NaN</td>\n",
       "      <td>NaN</td>\n",
       "      <td>NaN</td>\n",
       "      <td>NaN</td>\n",
       "      <td>NaN</td>\n",
       "      <td>NaN</td>\n",
       "      <td>NaN</td>\n",
       "      <td>NaN</td>\n",
       "      <td>NaN</td>\n",
       "      <td>NaN</td>\n",
       "      <td>NaN</td>\n",
       "      <td>NaN</td>\n",
       "      <td>NaN</td>\n",
       "      <td>NaN</td>\n",
       "      <td>NaN</td>\n",
       "      <td>NaN</td>\n",
       "      <td>NaN</td>\n",
       "      <td>NaN</td>\n",
       "      <td>NaN</td>\n",
       "      <td>NaN</td>\n",
       "    </tr>\n",
       "    <tr>\n",
       "      <th>m_FreeSulfurDioxide</th>\n",
       "      <td>NaN</td>\n",
       "      <td>NaN</td>\n",
       "      <td>NaN</td>\n",
       "      <td>NaN</td>\n",
       "      <td>NaN</td>\n",
       "      <td>NaN</td>\n",
       "      <td>NaN</td>\n",
       "      <td>NaN</td>\n",
       "      <td>NaN</td>\n",
       "      <td>NaN</td>\n",
       "      <td>NaN</td>\n",
       "      <td>NaN</td>\n",
       "      <td>NaN</td>\n",
       "      <td>NaN</td>\n",
       "      <td>NaN</td>\n",
       "      <td>NaN</td>\n",
       "      <td>NaN</td>\n",
       "      <td>NaN</td>\n",
       "      <td>NaN</td>\n",
       "      <td>NaN</td>\n",
       "      <td>NaN</td>\n",
       "      <td>NaN</td>\n",
       "      <td>NaN</td>\n",
       "    </tr>\n",
       "    <tr>\n",
       "      <th>m_TotalSulfurDioxide</th>\n",
       "      <td>NaN</td>\n",
       "      <td>NaN</td>\n",
       "      <td>NaN</td>\n",
       "      <td>NaN</td>\n",
       "      <td>NaN</td>\n",
       "      <td>NaN</td>\n",
       "      <td>NaN</td>\n",
       "      <td>NaN</td>\n",
       "      <td>NaN</td>\n",
       "      <td>NaN</td>\n",
       "      <td>NaN</td>\n",
       "      <td>NaN</td>\n",
       "      <td>NaN</td>\n",
       "      <td>NaN</td>\n",
       "      <td>NaN</td>\n",
       "      <td>NaN</td>\n",
       "      <td>NaN</td>\n",
       "      <td>NaN</td>\n",
       "      <td>NaN</td>\n",
       "      <td>NaN</td>\n",
       "      <td>NaN</td>\n",
       "      <td>NaN</td>\n",
       "      <td>NaN</td>\n",
       "    </tr>\n",
       "    <tr>\n",
       "      <th>m_pH</th>\n",
       "      <td>NaN</td>\n",
       "      <td>NaN</td>\n",
       "      <td>NaN</td>\n",
       "      <td>NaN</td>\n",
       "      <td>NaN</td>\n",
       "      <td>NaN</td>\n",
       "      <td>NaN</td>\n",
       "      <td>NaN</td>\n",
       "      <td>NaN</td>\n",
       "      <td>NaN</td>\n",
       "      <td>NaN</td>\n",
       "      <td>NaN</td>\n",
       "      <td>NaN</td>\n",
       "      <td>NaN</td>\n",
       "      <td>NaN</td>\n",
       "      <td>NaN</td>\n",
       "      <td>NaN</td>\n",
       "      <td>NaN</td>\n",
       "      <td>NaN</td>\n",
       "      <td>NaN</td>\n",
       "      <td>NaN</td>\n",
       "      <td>NaN</td>\n",
       "      <td>NaN</td>\n",
       "    </tr>\n",
       "    <tr>\n",
       "      <th>m_Sulphates</th>\n",
       "      <td>NaN</td>\n",
       "      <td>NaN</td>\n",
       "      <td>NaN</td>\n",
       "      <td>NaN</td>\n",
       "      <td>NaN</td>\n",
       "      <td>NaN</td>\n",
       "      <td>NaN</td>\n",
       "      <td>NaN</td>\n",
       "      <td>NaN</td>\n",
       "      <td>NaN</td>\n",
       "      <td>NaN</td>\n",
       "      <td>NaN</td>\n",
       "      <td>NaN</td>\n",
       "      <td>NaN</td>\n",
       "      <td>NaN</td>\n",
       "      <td>NaN</td>\n",
       "      <td>NaN</td>\n",
       "      <td>NaN</td>\n",
       "      <td>NaN</td>\n",
       "      <td>NaN</td>\n",
       "      <td>NaN</td>\n",
       "      <td>NaN</td>\n",
       "      <td>NaN</td>\n",
       "    </tr>\n",
       "    <tr>\n",
       "      <th>m_Alcohol</th>\n",
       "      <td>NaN</td>\n",
       "      <td>NaN</td>\n",
       "      <td>NaN</td>\n",
       "      <td>NaN</td>\n",
       "      <td>NaN</td>\n",
       "      <td>NaN</td>\n",
       "      <td>NaN</td>\n",
       "      <td>NaN</td>\n",
       "      <td>NaN</td>\n",
       "      <td>NaN</td>\n",
       "      <td>NaN</td>\n",
       "      <td>NaN</td>\n",
       "      <td>NaN</td>\n",
       "      <td>NaN</td>\n",
       "      <td>NaN</td>\n",
       "      <td>NaN</td>\n",
       "      <td>NaN</td>\n",
       "      <td>NaN</td>\n",
       "      <td>NaN</td>\n",
       "      <td>NaN</td>\n",
       "      <td>NaN</td>\n",
       "      <td>NaN</td>\n",
       "      <td>NaN</td>\n",
       "    </tr>\n",
       "    <tr>\n",
       "      <th>m_STARS</th>\n",
       "      <td>NaN</td>\n",
       "      <td>NaN</td>\n",
       "      <td>NaN</td>\n",
       "      <td>NaN</td>\n",
       "      <td>NaN</td>\n",
       "      <td>NaN</td>\n",
       "      <td>NaN</td>\n",
       "      <td>NaN</td>\n",
       "      <td>NaN</td>\n",
       "      <td>NaN</td>\n",
       "      <td>NaN</td>\n",
       "      <td>NaN</td>\n",
       "      <td>NaN</td>\n",
       "      <td>NaN</td>\n",
       "      <td>NaN</td>\n",
       "      <td>NaN</td>\n",
       "      <td>NaN</td>\n",
       "      <td>NaN</td>\n",
       "      <td>NaN</td>\n",
       "      <td>NaN</td>\n",
       "      <td>NaN</td>\n",
       "      <td>NaN</td>\n",
       "      <td>NaN</td>\n",
       "    </tr>\n",
       "  </tbody>\n",
       "</table>\n",
       "</div>"
      ],
      "text/plain": [
       "                        TARGET  FixedAcidity  VolatileAcidity  CitricAcid  \\\n",
       "TARGET                1.000000 -0.049011     -0.088793         0.008685     \n",
       "FixedAcidity         -0.049011  1.000000      0.012375         0.014240     \n",
       "VolatileAcidity      -0.088793  0.012375      1.000000        -0.016953     \n",
       "CitricAcid            0.008685  0.014240     -0.016953         1.000000     \n",
       "ResidualSugar         0.016491 -0.018855     -0.006483        -0.006940     \n",
       "Chlorides            -0.038263 -0.000457      0.000987        -0.008567     \n",
       "FreeSulfurDioxide     0.043824  0.004972     -0.007077         0.006428     \n",
       "TotalSulfurDioxide    0.051478 -0.022498     -0.021080         0.006320     \n",
       "Density              -0.035518  0.006477      0.014735        -0.013952     \n",
       "pH                   -0.009445 -0.008983      0.013592        -0.008709     \n",
       "Sulphates            -0.038850  0.030783      0.000129        -0.012989     \n",
       "Alcohol               0.062062 -0.009371      0.004073         0.017046     \n",
       "LabelAppeal           0.356500 -0.003366     -0.016987         0.008650     \n",
       "AcidIndex            -0.246049  0.178437      0.044642         0.065697     \n",
       "STARS                 0.558794 -0.006628     -0.034431         0.000665     \n",
       "m_ResidualSugar      NaN       NaN           NaN              NaN           \n",
       "m_Chlorides          NaN       NaN           NaN              NaN           \n",
       "m_FreeSulfurDioxide  NaN       NaN           NaN              NaN           \n",
       "m_TotalSulfurDioxide NaN       NaN           NaN              NaN           \n",
       "m_pH                 NaN       NaN           NaN              NaN           \n",
       "m_Sulphates          NaN       NaN           NaN              NaN           \n",
       "m_Alcohol            NaN       NaN           NaN              NaN           \n",
       "m_STARS              NaN       NaN           NaN              NaN           \n",
       "\n",
       "                      ResidualSugar  Chlorides  FreeSulfurDioxide  \\\n",
       "TARGET                0.016491      -0.038263   0.043824            \n",
       "FixedAcidity         -0.018855      -0.000457   0.004972            \n",
       "VolatileAcidity      -0.006483       0.000987  -0.007077            \n",
       "CitricAcid           -0.006940      -0.008567   0.006428            \n",
       "ResidualSugar         1.000000      -0.005594   0.017493            \n",
       "Chlorides            -0.005594       1.000000  -0.020661            \n",
       "FreeSulfurDioxide     0.017493      -0.020661   1.000000            \n",
       "TotalSulfurDioxide    0.022479      -0.013994   0.013720            \n",
       "Density               0.004101       0.022657   0.003176            \n",
       "pH                    0.012118      -0.017605   0.006049            \n",
       "Sulphates            -0.007723      -0.003290   0.011593            \n",
       "Alcohol              -0.019998      -0.019695  -0.018588            \n",
       "LabelAppeal           0.002320       0.010509   0.010294            \n",
       "AcidIndex            -0.009414       0.025238  -0.041717            \n",
       "STARS                 0.016741      -0.004931  -0.009082            \n",
       "m_ResidualSugar      NaN            NaN        NaN                  \n",
       "m_Chlorides          NaN            NaN        NaN                  \n",
       "m_FreeSulfurDioxide  NaN            NaN        NaN                  \n",
       "m_TotalSulfurDioxide NaN            NaN        NaN                  \n",
       "m_pH                 NaN            NaN        NaN                  \n",
       "m_Sulphates          NaN            NaN        NaN                  \n",
       "m_Alcohol            NaN            NaN        NaN                  \n",
       "m_STARS              NaN            NaN        NaN                  \n",
       "\n",
       "                      TotalSulfurDioxide   Density        pH  Sulphates  \\\n",
       "TARGET                0.051478           -0.035518 -0.009445 -0.038850    \n",
       "FixedAcidity         -0.022498            0.006477 -0.008983  0.030783    \n",
       "VolatileAcidity      -0.021080            0.014735  0.013592  0.000129    \n",
       "CitricAcid            0.006320           -0.013952 -0.008709 -0.012989    \n",
       "ResidualSugar         0.022479            0.004101  0.012118 -0.007723    \n",
       "Chlorides            -0.013994            0.022657 -0.017605 -0.003290    \n",
       "FreeSulfurDioxide     0.013720            0.003176  0.006049  0.011593    \n",
       "TotalSulfurDioxide    1.000000            0.012816 -0.004343 -0.007133    \n",
       "Density               0.012816            1.000000  0.005768 -0.009059    \n",
       "pH                   -0.004343            0.005768  1.000000  0.005475    \n",
       "Sulphates            -0.007133           -0.009059  0.005475  1.000000    \n",
       "Alcohol              -0.015957           -0.007215 -0.011548  0.004741    \n",
       "LabelAppeal          -0.009747           -0.009370  0.004138 -0.003888    \n",
       "AcidIndex            -0.049311            0.040413 -0.058676  0.034449    \n",
       "STARS                 0.013929           -0.018284 -0.000488 -0.012306    \n",
       "m_ResidualSugar      NaN                 NaN       NaN       NaN          \n",
       "m_Chlorides          NaN                 NaN       NaN       NaN          \n",
       "m_FreeSulfurDioxide  NaN                 NaN       NaN       NaN          \n",
       "m_TotalSulfurDioxide NaN                 NaN       NaN       NaN          \n",
       "m_pH                 NaN                 NaN       NaN       NaN          \n",
       "m_Sulphates          NaN                 NaN       NaN       NaN          \n",
       "m_Alcohol            NaN                 NaN       NaN       NaN          \n",
       "m_STARS              NaN                 NaN       NaN       NaN          \n",
       "\n",
       "                       Alcohol  LabelAppeal  AcidIndex     STARS  \\\n",
       "TARGET                0.062062  0.356500    -0.246049   0.558794   \n",
       "FixedAcidity         -0.009371 -0.003366     0.178437  -0.006628   \n",
       "VolatileAcidity       0.004073 -0.016987     0.044642  -0.034431   \n",
       "CitricAcid            0.017046  0.008650     0.065697   0.000665   \n",
       "ResidualSugar        -0.019998  0.002320    -0.009414   0.016741   \n",
       "Chlorides            -0.019695  0.010509     0.025238  -0.004931   \n",
       "FreeSulfurDioxide    -0.018588  0.010294    -0.041717  -0.009082   \n",
       "TotalSulfurDioxide   -0.015957 -0.009747    -0.049311   0.013929   \n",
       "Density              -0.007215 -0.009370     0.040413  -0.018284   \n",
       "pH                   -0.011548  0.004138    -0.058676  -0.000488   \n",
       "Sulphates             0.004741 -0.003888     0.034449  -0.012306   \n",
       "Alcohol               1.000000  0.001027    -0.038138   0.065220   \n",
       "LabelAppeal           0.001027  1.000000     0.024755   0.334788   \n",
       "AcidIndex            -0.038138  0.024755     1.000000  -0.086259   \n",
       "STARS                 0.065220  0.334788    -0.086259   1.000000   \n",
       "m_ResidualSugar      NaN       NaN          NaN        NaN         \n",
       "m_Chlorides          NaN       NaN          NaN        NaN         \n",
       "m_FreeSulfurDioxide  NaN       NaN          NaN        NaN         \n",
       "m_TotalSulfurDioxide NaN       NaN          NaN        NaN         \n",
       "m_pH                 NaN       NaN          NaN        NaN         \n",
       "m_Sulphates          NaN       NaN          NaN        NaN         \n",
       "m_Alcohol            NaN       NaN          NaN        NaN         \n",
       "m_STARS              NaN       NaN          NaN        NaN         \n",
       "\n",
       "                      m_ResidualSugar  m_Chlorides  m_FreeSulfurDioxide  \\\n",
       "TARGET               NaN              NaN          NaN                    \n",
       "FixedAcidity         NaN              NaN          NaN                    \n",
       "VolatileAcidity      NaN              NaN          NaN                    \n",
       "CitricAcid           NaN              NaN          NaN                    \n",
       "ResidualSugar        NaN              NaN          NaN                    \n",
       "Chlorides            NaN              NaN          NaN                    \n",
       "FreeSulfurDioxide    NaN              NaN          NaN                    \n",
       "TotalSulfurDioxide   NaN              NaN          NaN                    \n",
       "Density              NaN              NaN          NaN                    \n",
       "pH                   NaN              NaN          NaN                    \n",
       "Sulphates            NaN              NaN          NaN                    \n",
       "Alcohol              NaN              NaN          NaN                    \n",
       "LabelAppeal          NaN              NaN          NaN                    \n",
       "AcidIndex            NaN              NaN          NaN                    \n",
       "STARS                NaN              NaN          NaN                    \n",
       "m_ResidualSugar      NaN              NaN          NaN                    \n",
       "m_Chlorides          NaN              NaN          NaN                    \n",
       "m_FreeSulfurDioxide  NaN              NaN          NaN                    \n",
       "m_TotalSulfurDioxide NaN              NaN          NaN                    \n",
       "m_pH                 NaN              NaN          NaN                    \n",
       "m_Sulphates          NaN              NaN          NaN                    \n",
       "m_Alcohol            NaN              NaN          NaN                    \n",
       "m_STARS              NaN              NaN          NaN                    \n",
       "\n",
       "                      m_TotalSulfurDioxide  m_pH  m_Sulphates  m_Alcohol  \\\n",
       "TARGET               NaN                   NaN   NaN          NaN          \n",
       "FixedAcidity         NaN                   NaN   NaN          NaN          \n",
       "VolatileAcidity      NaN                   NaN   NaN          NaN          \n",
       "CitricAcid           NaN                   NaN   NaN          NaN          \n",
       "ResidualSugar        NaN                   NaN   NaN          NaN          \n",
       "Chlorides            NaN                   NaN   NaN          NaN          \n",
       "FreeSulfurDioxide    NaN                   NaN   NaN          NaN          \n",
       "TotalSulfurDioxide   NaN                   NaN   NaN          NaN          \n",
       "Density              NaN                   NaN   NaN          NaN          \n",
       "pH                   NaN                   NaN   NaN          NaN          \n",
       "Sulphates            NaN                   NaN   NaN          NaN          \n",
       "Alcohol              NaN                   NaN   NaN          NaN          \n",
       "LabelAppeal          NaN                   NaN   NaN          NaN          \n",
       "AcidIndex            NaN                   NaN   NaN          NaN          \n",
       "STARS                NaN                   NaN   NaN          NaN          \n",
       "m_ResidualSugar      NaN                   NaN   NaN          NaN          \n",
       "m_Chlorides          NaN                   NaN   NaN          NaN          \n",
       "m_FreeSulfurDioxide  NaN                   NaN   NaN          NaN          \n",
       "m_TotalSulfurDioxide NaN                   NaN   NaN          NaN          \n",
       "m_pH                 NaN                   NaN   NaN          NaN          \n",
       "m_Sulphates          NaN                   NaN   NaN          NaN          \n",
       "m_Alcohol            NaN                   NaN   NaN          NaN          \n",
       "m_STARS              NaN                   NaN   NaN          NaN          \n",
       "\n",
       "                      m_STARS  \n",
       "TARGET               NaN       \n",
       "FixedAcidity         NaN       \n",
       "VolatileAcidity      NaN       \n",
       "CitricAcid           NaN       \n",
       "ResidualSugar        NaN       \n",
       "Chlorides            NaN       \n",
       "FreeSulfurDioxide    NaN       \n",
       "TotalSulfurDioxide   NaN       \n",
       "Density              NaN       \n",
       "pH                   NaN       \n",
       "Sulphates            NaN       \n",
       "Alcohol              NaN       \n",
       "LabelAppeal          NaN       \n",
       "AcidIndex            NaN       \n",
       "STARS                NaN       \n",
       "m_ResidualSugar      NaN       \n",
       "m_Chlorides          NaN       \n",
       "m_FreeSulfurDioxide  NaN       \n",
       "m_TotalSulfurDioxide NaN       \n",
       "m_pH                 NaN       \n",
       "m_Sulphates          NaN       \n",
       "m_Alcohol            NaN       \n",
       "m_STARS              NaN       "
      ]
     },
     "execution_count": 368,
     "metadata": {},
     "output_type": "execute_result"
    }
   ],
   "source": [
    "'''\n",
    "Correlation levels\n",
    "very weak 0 - .2\n",
    "weak .2 - .4\n",
    "moderate .4 - .6\n",
    "strong .6 - .8\n",
    "very strong .8 - 1\n",
    "'''\n",
    "wine_flag.corr()"
   ]
  },
  {
   "cell_type": "code",
   "execution_count": 429,
   "metadata": {
    "collapsed": true
   },
   "outputs": [],
   "source": [
    "pd.reset_option('display.max_columns') #reset max cols such that width of df is auto-detected and sometimes truncated"
   ]
  },
  {
   "cell_type": "markdown",
   "metadata": {},
   "source": [
    "## Median Imputation for Missing Values"
   ]
  },
  {
   "cell_type": "code",
   "execution_count": 433,
   "metadata": {
    "collapsed": false
   },
   "outputs": [],
   "source": [
    "Y=wine_flag.TARGET\n",
    "X1=wine_flag.drop(['TARGET'],axis=1)\n",
    "fill_NaN = Imputer(missing_values=np.nan, strategy='median', axis=1)\n",
    "X = pd.DataFrame(fill_NaN.fit_transform(X1))\n",
    "X.columns = X1.columns\n",
    "X.index = X1.index"
   ]
  },
  {
   "cell_type": "code",
   "execution_count": 435,
   "metadata": {
    "collapsed": false
   },
   "outputs": [
    {
     "data": {
      "text/plain": [
       "FixedAcidity            0\n",
       "VolatileAcidity         0\n",
       "CitricAcid              0\n",
       "ResidualSugar           0\n",
       "Chlorides               0\n",
       "FreeSulfurDioxide       0\n",
       "TotalSulfurDioxide      0\n",
       "Density                 0\n",
       "pH                      0\n",
       "Sulphates               0\n",
       "Alcohol                 0\n",
       "LabelAppeal             0\n",
       "AcidIndex               0\n",
       "STARS                   0\n",
       "m_ResidualSugar         0\n",
       "m_Chlorides             0\n",
       "m_FreeSulfurDioxide     0\n",
       "m_TotalSulfurDioxide    0\n",
       "m_pH                    0\n",
       "m_Sulphates             0\n",
       "m_Alcohol               0\n",
       "m_STARS                 0\n",
       "dtype: int64"
      ]
     },
     "execution_count": 435,
     "metadata": {},
     "output_type": "execute_result"
    }
   ],
   "source": [
    "#Missing value count after mean imputation\n",
    "X.isnull().sum(axis=0)"
   ]
  },
  {
   "cell_type": "markdown",
   "metadata": {},
   "source": [
    "## Trimming the outliers"
   ]
  },
  {
   "cell_type": "code",
   "execution_count": 629,
   "metadata": {
    "collapsed": false
   },
   "outputs": [],
   "source": [
    "for j in range(14):\n",
    "    p01=X.iloc[:,j].quantile(.01)\n",
    "    p99=X.iloc[:,j].quantile(.99)\n",
    "    trim=lambda x: p01 if x<p01 else p99 if x>p99 else x\n",
    "    X.iloc[:,j]=X.iloc[:,j].map(trim)"
   ]
  },
  {
   "cell_type": "code",
   "execution_count": 630,
   "metadata": {
    "collapsed": true
   },
   "outputs": [],
   "source": [
    "#Change LabelAppeal back \n",
    "Xorig = pd.DataFrame(fill_NaN.fit_transform(X1))\n",
    "Xorig.columns, Xorig.index = X1.columns, X1.index\n",
    "X['LabelAppeal']=Xorig['LabelAppeal']"
   ]
  },
  {
   "cell_type": "code",
   "execution_count": 631,
   "metadata": {
    "collapsed": false
   },
   "outputs": [
    {
     "data": {
      "text/plain": [
       "FixedAcidity           -0.001591\n",
       "VolatileAcidity         0.000722\n",
       "CitricAcid             -0.000734\n",
       "ResidualSugar          -0.006423\n",
       "Chlorides               0.000340\n",
       "FreeSulfurDioxide       0.049971\n",
       "TotalSulfurDioxide     -0.147912\n",
       "Density                -0.000009\n",
       "pH                     -0.001735\n",
       "Sulphates              -0.000367\n",
       "Alcohol                -0.004875\n",
       "LabelAppeal             0.000000\n",
       "AcidIndex              -0.001954\n",
       "STARS                   0.000000\n",
       "m_ResidualSugar         0.000000\n",
       "m_Chlorides             0.000000\n",
       "m_FreeSulfurDioxide     0.000000\n",
       "m_TotalSulfurDioxide    0.000000\n",
       "m_pH                    0.000000\n",
       "m_Sulphates             0.000000\n",
       "m_Alcohol               0.000000\n",
       "m_STARS                 0.000000\n",
       "dtype: float64"
      ]
     },
     "execution_count": 631,
     "metadata": {},
     "output_type": "execute_result"
    }
   ],
   "source": [
    "#The average change for each variable\n",
    "(X-Xorig).mean()"
   ]
  },
  {
   "cell_type": "markdown",
   "metadata": {},
   "source": [
    "## Importing train/test split data from sas files"
   ]
  },
  {
   "cell_type": "code",
   "execution_count": 632,
   "metadata": {
    "collapsed": false
   },
   "outputs": [],
   "source": [
    "wine_test=pd.read_csv('/Users/Work/Desktop/Work/Projects/Wine/sas splits/wine_test.csv')"
   ]
  },
  {
   "cell_type": "code",
   "execution_count": 633,
   "metadata": {
    "collapsed": true
   },
   "outputs": [],
   "source": [
    "wine_train=pd.read_csv('/Users/Work/Desktop/Work/Projects/Wine/sas splits/wine_train.csv')"
   ]
  },
  {
   "cell_type": "code",
   "execution_count": 634,
   "metadata": {
    "collapsed": false
   },
   "outputs": [],
   "source": [
    "X_train=wine_train.drop(['Selected','INDEX','TARGET','m_totalsulfurdioxide'],axis=1)\n",
    "X_test=wine_test.drop(['Selected','INDEX','TARGET','m_totalsulfurdioxide'],axis=1)\n",
    "Y_train=wine_train['TARGET']\n",
    "Y_test=wine_test['TARGET']"
   ]
  },
  {
   "cell_type": "markdown",
   "metadata": {},
   "source": [
    "We would normally use this code to create train/test splits for the following models: <br>\n",
    "*X_train, X_test, Y_train, Y_test = sklearn.model_selection.train_test_split\\\n",
    "(X, Y, test_size=0.30, random_state = 5*\n"
   ]
  },
  {
   "cell_type": "markdown",
   "metadata": {},
   "source": [
    "# Linear Regression"
   ]
  },
  {
   "cell_type": "code",
   "execution_count": 635,
   "metadata": {
    "collapsed": false
   },
   "outputs": [
    {
     "name": "stdout",
     "output_type": "stream",
     "text": [
      "                            OLS Regression Results                            \n",
      "==============================================================================\n",
      "Dep. Variable:                Y_train   R-squared:                       0.538\n",
      "Model:                            OLS   Adj. R-squared:                  0.537\n",
      "Method:                 Least Squares   F-statistic:                     495.3\n",
      "Date:                Wed, 08 Mar 2017   Prob (F-statistic):               0.00\n",
      "Time:                        23:24:42   Log-Likelihood:                -15102.\n",
      "No. Observations:                8957   AIC:                         3.025e+04\n",
      "Df Residuals:                    8935   BIC:                         3.040e+04\n",
      "Df Model:                          21                                         \n",
      "Covariance Type:            nonrobust                                         \n",
      "===============================================================================\n",
      "                  coef    std err          t      P>|t|      [95.0% Conf. Int.]\n",
      "-------------------------------------------------------------------------------\n",
      "Intercept       4.0800      0.550      7.418      0.000         3.002     5.158\n",
      "X_train[0]     -0.0011      0.002     -0.500      0.617        -0.006     0.003\n",
      "X_train[1]     -0.0900      0.018     -4.872      0.000        -0.126    -0.054\n",
      "X_train[2]      0.0233      0.017      1.387      0.165        -0.010     0.056\n",
      "X_train[3]     -0.4089      0.540     -0.758      0.449        -1.466     0.649\n",
      "X_train[4]     -0.2136      0.011    -18.809      0.000        -0.236    -0.191\n",
      "X_train[5]      0.0148      0.004      3.687      0.000         0.007     0.023\n",
      "X_train[6]     -0.1225      0.046     -2.677      0.007        -0.212    -0.033\n",
      "X_train[7]      0.0002   9.85e-05      1.588      0.112     -3.67e-05     0.000\n",
      "X_train[8]  -5.464e-05      0.000     -0.126      0.900        -0.001     0.001\n",
      "X_train[9]     -0.0352      0.016     -2.176      0.030        -0.067    -0.003\n",
      "X_train[10]    -0.0303      0.021     -1.415      0.157        -0.072     0.012\n",
      "X_train[11]     0.0002   6.33e-05      3.151      0.002      7.53e-05     0.000\n",
      "X_train[12]     0.4784      0.016     29.269      0.000         0.446     0.510\n",
      "X_train[13]     0.1004      0.062      1.617      0.106        -0.021     0.222\n",
      "X_train[14]    -0.0138      0.064     -0.217      0.828        -0.139     0.111\n",
      "X_train[15]     0.0744      0.063      1.180      0.238        -0.049     0.198\n",
      "X_train[16]     0.0498      0.064      0.781      0.435        -0.075     0.175\n",
      "X_train[17]     0.0073      0.047      0.158      0.875        -0.084     0.099\n",
      "X_train[18]    -0.0851      0.081     -1.047      0.295        -0.245     0.074\n",
      "X_train[19]     0.7738      0.019     41.075      0.000         0.737     0.811\n",
      "X_train[20]    -2.2276      0.032    -69.285      0.000        -2.291    -2.165\n",
      "==============================================================================\n",
      "Omnibus:                       42.669   Durbin-Watson:                   2.027\n",
      "Prob(Omnibus):                  0.000   Jarque-Bera (JB):               57.680\n",
      "Skew:                          -0.048   Prob(JB):                     2.98e-13\n",
      "Kurtosis:                       3.381   Cond. No.                     1.37e+04\n",
      "==============================================================================\n",
      "\n",
      "Warnings:\n",
      "[1] Standard Errors assume that the covariance matrix of the errors is correctly specified.\n",
      "[2] The condition number is large, 1.37e+04. This might indicate that there are\n",
      "strong multicollinearity or other numerical problems.\n"
     ]
    }
   ],
   "source": [
    "m = ols('Y_train ~ X_train', X_train).fit()\n",
    "print m.summary()"
   ]
  },
  {
   "cell_type": "code",
   "execution_count": 636,
   "metadata": {
    "collapsed": false
   },
   "outputs": [
    {
     "data": {
      "text/plain": [
       "1.3140714784866387"
      ]
     },
     "execution_count": 636,
     "metadata": {},
     "output_type": "execute_result"
    }
   ],
   "source": [
    "lm = LinearRegression()\n",
    "lm.fit(X_train, Y_train)\n",
    "\n",
    "Y_pred=lm.predict(X_test)\n",
    "rmse(Y_test,Y_pred)"
   ]
  },
  {
   "cell_type": "markdown",
   "metadata": {},
   "source": [
    "# Poisson Regression"
   ]
  },
  {
   "cell_type": "code",
   "execution_count": 637,
   "metadata": {
    "collapsed": false,
    "scrolled": false
   },
   "outputs": [
    {
     "data": {
      "text/html": [
       "<table class=\"simpletable\">\n",
       "<caption>Generalized Linear Model Regression Results</caption>\n",
       "<tr>\n",
       "  <th>Dep. Variable:</th>       <td>TARGET</td>      <th>  No. Observations:  </th>  <td>  8957</td> \n",
       "</tr>\n",
       "<tr>\n",
       "  <th>Model:</th>                 <td>GLM</td>       <th>  Df Residuals:      </th>  <td>  8935</td> \n",
       "</tr>\n",
       "<tr>\n",
       "  <th>Model Family:</th>        <td>Poisson</td>     <th>  Df Model:          </th>  <td>    21</td> \n",
       "</tr>\n",
       "<tr>\n",
       "  <th>Link Function:</th>         <td>log</td>       <th>  Scale:             </th>    <td>1.0</td>  \n",
       "</tr>\n",
       "<tr>\n",
       "  <th>Method:</th>               <td>IRLS</td>       <th>  Log-Likelihood:    </th> <td> -15992.</td>\n",
       "</tr>\n",
       "<tr>\n",
       "  <th>Date:</th>           <td>Wed, 08 Mar 2017</td> <th>  Deviance:          </th> <td>  9551.7</td>\n",
       "</tr>\n",
       "<tr>\n",
       "  <th>Time:</th>               <td>23:24:47</td>     <th>  Pearson chi2:      </th> <td>7.80e+03</td>\n",
       "</tr>\n",
       "<tr>\n",
       "  <th>No. Iterations:</th>         <td>8</td>        <th>                     </th>     <td> </td>   \n",
       "</tr>\n",
       "</table>\n",
       "<table class=\"simpletable\">\n",
       "<tr>\n",
       "           <td></td>              <th>coef</th>     <th>std err</th>      <th>z</th>      <th>P>|z|</th> <th>[95.0% Conf. Int.]</th> \n",
       "</tr>\n",
       "<tr>\n",
       "  <th>const</th>               <td>    1.6293</td> <td>    0.242</td> <td>    6.728</td> <td> 0.000</td> <td>    1.155     2.104</td>\n",
       "</tr>\n",
       "<tr>\n",
       "  <th>FixedAcidity</th>        <td>   -0.0007</td> <td>    0.001</td> <td>   -0.726</td> <td> 0.468</td> <td>   -0.003     0.001</td>\n",
       "</tr>\n",
       "<tr>\n",
       "  <th>VolatileAcidity</th>     <td>   -0.0296</td> <td>    0.008</td> <td>   -3.642</td> <td> 0.000</td> <td>   -0.046    -0.014</td>\n",
       "</tr>\n",
       "<tr>\n",
       "  <th>CitricAcid</th>          <td>    0.0074</td> <td>    0.007</td> <td>    1.002</td> <td> 0.316</td> <td>   -0.007     0.022</td>\n",
       "</tr>\n",
       "<tr>\n",
       "  <th>Density</th>             <td>   -0.1132</td> <td>    0.237</td> <td>   -0.478</td> <td> 0.633</td> <td>   -0.578     0.351</td>\n",
       "</tr>\n",
       "<tr>\n",
       "  <th>AcidIndex</th>           <td>   -0.0833</td> <td>    0.006</td> <td>  -14.842</td> <td> 0.000</td> <td>   -0.094    -0.072</td>\n",
       "</tr>\n",
       "<tr>\n",
       "  <th>ALCOHOL</th>             <td>    0.0042</td> <td>    0.002</td> <td>    2.403</td> <td> 0.016</td> <td>    0.001     0.008</td>\n",
       "</tr>\n",
       "<tr>\n",
       "  <th>CHLORIDES</th>           <td>   -0.0395</td> <td>    0.020</td> <td>   -1.960</td> <td> 0.050</td> <td>   -0.079  2.48e-06</td>\n",
       "</tr>\n",
       "<tr>\n",
       "  <th>FREESULFURDIOXIDE</th>   <td> 5.791e-05</td> <td> 4.34e-05</td> <td>    1.333</td> <td> 0.183</td> <td>-2.72e-05     0.000</td>\n",
       "</tr>\n",
       "<tr>\n",
       "  <th>RESIDUALSUGAR</th>       <td>-1.899e-05</td> <td>    0.000</td> <td>   -0.099</td> <td> 0.921</td> <td>   -0.000     0.000</td>\n",
       "</tr>\n",
       "<tr>\n",
       "  <th>SULPHATES</th>           <td>   -0.0135</td> <td>    0.007</td> <td>   -1.893</td> <td> 0.058</td> <td>   -0.027     0.000</td>\n",
       "</tr>\n",
       "<tr>\n",
       "  <th>PH</th>                  <td>   -0.0121</td> <td>    0.009</td> <td>   -1.292</td> <td> 0.196</td> <td>   -0.031     0.006</td>\n",
       "</tr>\n",
       "<tr>\n",
       "  <th>totalsulfurdioxide</th>  <td>  7.51e-05</td> <td> 2.81e-05</td> <td>    2.677</td> <td> 0.007</td> <td> 2.01e-05     0.000</td>\n",
       "</tr>\n",
       "<tr>\n",
       "  <th>LabelAppeal</th>         <td>    0.1631</td> <td>    0.007</td> <td>   22.218</td> <td> 0.000</td> <td>    0.149     0.178</td>\n",
       "</tr>\n",
       "<tr>\n",
       "  <th>m_ALCOHOL</th>           <td>    0.0298</td> <td>    0.027</td> <td>    1.095</td> <td> 0.273</td> <td>   -0.024     0.083</td>\n",
       "</tr>\n",
       "<tr>\n",
       "  <th>m_CHLORIDES</th>         <td>   -0.0114</td> <td>    0.028</td> <td>   -0.410</td> <td> 0.682</td> <td>   -0.066     0.043</td>\n",
       "</tr>\n",
       "<tr>\n",
       "  <th>m_FREESULFURDIOXIDE</th> <td>    0.0250</td> <td>    0.028</td> <td>    0.900</td> <td> 0.368</td> <td>   -0.029     0.079</td>\n",
       "</tr>\n",
       "<tr>\n",
       "  <th>m_RESIDUALSUGAR</th>     <td>    0.0139</td> <td>    0.028</td> <td>    0.501</td> <td> 0.617</td> <td>   -0.040     0.068</td>\n",
       "</tr>\n",
       "<tr>\n",
       "  <th>m_SULPHATES</th>         <td>    0.0002</td> <td>    0.021</td> <td>    0.010</td> <td> 0.992</td> <td>   -0.040     0.041</td>\n",
       "</tr>\n",
       "<tr>\n",
       "  <th>m_PH</th>                <td>   -0.0374</td> <td>    0.037</td> <td>   -1.022</td> <td> 0.307</td> <td>   -0.109     0.034</td>\n",
       "</tr>\n",
       "<tr>\n",
       "  <th>STARS</th>               <td>    0.1861</td> <td>    0.007</td> <td>   25.330</td> <td> 0.000</td> <td>    0.172     0.200</td>\n",
       "</tr>\n",
       "<tr>\n",
       "  <th>m_STARS</th>             <td>   -1.0089</td> <td>    0.020</td> <td>  -50.071</td> <td> 0.000</td> <td>   -1.048    -0.969</td>\n",
       "</tr>\n",
       "</table>"
      ],
      "text/plain": [
       "<class 'statsmodels.iolib.summary.Summary'>\n",
       "\"\"\"\n",
       "                 Generalized Linear Model Regression Results                  \n",
       "==============================================================================\n",
       "Dep. Variable:                 TARGET   No. Observations:                 8957\n",
       "Model:                            GLM   Df Residuals:                     8935\n",
       "Model Family:                 Poisson   Df Model:                           21\n",
       "Link Function:                    log   Scale:                             1.0\n",
       "Method:                          IRLS   Log-Likelihood:                -15992.\n",
       "Date:                Wed, 08 Mar 2017   Deviance:                       9551.7\n",
       "Time:                        23:24:47   Pearson chi2:                 7.80e+03\n",
       "No. Iterations:                     8                                         \n",
       "=======================================================================================\n",
       "                          coef    std err          z      P>|z|      [95.0% Conf. Int.]\n",
       "---------------------------------------------------------------------------------------\n",
       "const                   1.6293      0.242      6.728      0.000         1.155     2.104\n",
       "FixedAcidity           -0.0007      0.001     -0.726      0.468        -0.003     0.001\n",
       "VolatileAcidity        -0.0296      0.008     -3.642      0.000        -0.046    -0.014\n",
       "CitricAcid              0.0074      0.007      1.002      0.316        -0.007     0.022\n",
       "Density                -0.1132      0.237     -0.478      0.633        -0.578     0.351\n",
       "AcidIndex              -0.0833      0.006    -14.842      0.000        -0.094    -0.072\n",
       "ALCOHOL                 0.0042      0.002      2.403      0.016         0.001     0.008\n",
       "CHLORIDES              -0.0395      0.020     -1.960      0.050        -0.079  2.48e-06\n",
       "FREESULFURDIOXIDE    5.791e-05   4.34e-05      1.333      0.183     -2.72e-05     0.000\n",
       "RESIDUALSUGAR       -1.899e-05      0.000     -0.099      0.921        -0.000     0.000\n",
       "SULPHATES              -0.0135      0.007     -1.893      0.058        -0.027     0.000\n",
       "PH                     -0.0121      0.009     -1.292      0.196        -0.031     0.006\n",
       "totalsulfurdioxide    7.51e-05   2.81e-05      2.677      0.007      2.01e-05     0.000\n",
       "LabelAppeal             0.1631      0.007     22.218      0.000         0.149     0.178\n",
       "m_ALCOHOL               0.0298      0.027      1.095      0.273        -0.024     0.083\n",
       "m_CHLORIDES            -0.0114      0.028     -0.410      0.682        -0.066     0.043\n",
       "m_FREESULFURDIOXIDE     0.0250      0.028      0.900      0.368        -0.029     0.079\n",
       "m_RESIDUALSUGAR         0.0139      0.028      0.501      0.617        -0.040     0.068\n",
       "m_SULPHATES             0.0002      0.021      0.010      0.992        -0.040     0.041\n",
       "m_PH                   -0.0374      0.037     -1.022      0.307        -0.109     0.034\n",
       "STARS                   0.1861      0.007     25.330      0.000         0.172     0.200\n",
       "m_STARS                -1.0089      0.020    -50.071      0.000        -1.048    -0.969\n",
       "=======================================================================================\n",
       "\"\"\""
      ]
     },
     "execution_count": 637,
     "metadata": {},
     "output_type": "execute_result"
    }
   ],
   "source": [
    "X_train = sm.add_constant(X_train)\n",
    "X_test = sm.add_constant(X_test)\n",
    "pois=sm.GLM(Y_train, X_train,family=sm.families.Poisson()).fit()\n",
    "pois.summary()"
   ]
  },
  {
   "cell_type": "code",
   "execution_count": 638,
   "metadata": {
    "collapsed": false
   },
   "outputs": [
    {
     "name": "stdout",
     "output_type": "stream",
     "text": [
      "AIC 32027.954587 \n",
      "BIC -71758.472291\n"
     ]
    }
   ],
   "source": [
    "print 'AIC %f \\nBIC %f' %(pois.aic, pois.bic)"
   ]
  },
  {
   "cell_type": "code",
   "execution_count": 581,
   "metadata": {
    "collapsed": false
   },
   "outputs": [
    {
     "data": {
      "text/plain": [
       "1.3214027858902644"
      ]
     },
     "execution_count": 581,
     "metadata": {},
     "output_type": "execute_result"
    }
   ],
   "source": [
    "Y_pred=pois.predict(X_test)\n",
    "rmse(Y_test,Y_pred)"
   ]
  },
  {
   "cell_type": "markdown",
   "metadata": {},
   "source": [
    "# Negative Binomial Regression"
   ]
  },
  {
   "cell_type": "code",
   "execution_count": 639,
   "metadata": {
    "collapsed": false,
    "scrolled": false
   },
   "outputs": [
    {
     "data": {
      "text/html": [
       "<table class=\"simpletable\">\n",
       "<caption>Generalized Linear Model Regression Results</caption>\n",
       "<tr>\n",
       "  <th>Dep. Variable:</th>       <td>TARGET</td>      <th>  No. Observations:  </th>     <td>  8957</td>    \n",
       "</tr>\n",
       "<tr>\n",
       "  <th>Model:</th>                 <td>GLM</td>       <th>  Df Residuals:      </th>     <td>  8947</td>    \n",
       "</tr>\n",
       "<tr>\n",
       "  <th>Model Family:</th>   <td>NegativeBinomial</td> <th>  Df Model:          </th>     <td>     9</td>    \n",
       "</tr>\n",
       "<tr>\n",
       "  <th>Link Function:</th>         <td>log</td>       <th>  Scale:             </th> <td>0.334995619264</td>\n",
       "</tr>\n",
       "<tr>\n",
       "  <th>Method:</th>               <td>IRLS</td>       <th>  Log-Likelihood:    </th>    <td> -19362.</td>   \n",
       "</tr>\n",
       "<tr>\n",
       "  <th>Date:</th>           <td>Wed, 08 Mar 2017</td> <th>  Deviance:          </th>    <td>  4506.9</td>   \n",
       "</tr>\n",
       "<tr>\n",
       "  <th>Time:</th>               <td>23:24:57</td>     <th>  Pearson chi2:      </th>    <td>3.00e+03</td>   \n",
       "</tr>\n",
       "<tr>\n",
       "  <th>No. Iterations:</th>         <td>8</td>        <th>                     </th>        <td> </td>      \n",
       "</tr>\n",
       "</table>\n",
       "<table class=\"simpletable\">\n",
       "<tr>\n",
       "           <td></td>             <th>coef</th>     <th>std err</th>      <th>z</th>      <th>P>|z|</th> <th>[95.0% Conf. Int.]</th> \n",
       "</tr>\n",
       "<tr>\n",
       "  <th>const</th>              <td>    1.7134</td> <td>    0.058</td> <td>   29.781</td> <td> 0.000</td> <td>    1.601     1.826</td>\n",
       "</tr>\n",
       "<tr>\n",
       "  <th>AcidIndex</th>          <td>   -0.1174</td> <td>    0.006</td> <td>  -19.129</td> <td> 0.000</td> <td>   -0.129    -0.105</td>\n",
       "</tr>\n",
       "<tr>\n",
       "  <th>ALCOHOL</th>            <td>    0.0032</td> <td>    0.002</td> <td>    1.550</td> <td> 0.121</td> <td>   -0.001     0.007</td>\n",
       "</tr>\n",
       "<tr>\n",
       "  <th>CHLORIDES</th>          <td>   -0.0575</td> <td>    0.024</td> <td>   -2.396</td> <td> 0.017</td> <td>   -0.105    -0.010</td>\n",
       "</tr>\n",
       "<tr>\n",
       "  <th>LabelAppeal</th>        <td>    0.1469</td> <td>    0.009</td> <td>   17.012</td> <td> 0.000</td> <td>    0.130     0.164</td>\n",
       "</tr>\n",
       "<tr>\n",
       "  <th>STARS</th>              <td>    0.2054</td> <td>    0.009</td> <td>   21.798</td> <td> 0.000</td> <td>    0.187     0.224</td>\n",
       "</tr>\n",
       "<tr>\n",
       "  <th>SULPHATES</th>          <td>   -0.0225</td> <td>    0.008</td> <td>   -2.646</td> <td> 0.008</td> <td>   -0.039    -0.006</td>\n",
       "</tr>\n",
       "<tr>\n",
       "  <th>totalsulfurdioxide</th> <td>    0.0001</td> <td> 3.32e-05</td> <td>    4.031</td> <td> 0.000</td> <td> 6.88e-05     0.000</td>\n",
       "</tr>\n",
       "<tr>\n",
       "  <th>VolatileAcidity</th>    <td>   -0.0416</td> <td>    0.010</td> <td>   -4.301</td> <td> 0.000</td> <td>   -0.061    -0.023</td>\n",
       "</tr>\n",
       "<tr>\n",
       "  <th>m_STARS</th>            <td>   -1.0104</td> <td>    0.018</td> <td>  -54.736</td> <td> 0.000</td> <td>   -1.047    -0.974</td>\n",
       "</tr>\n",
       "</table>"
      ],
      "text/plain": [
       "<class 'statsmodels.iolib.summary.Summary'>\n",
       "\"\"\"\n",
       "                 Generalized Linear Model Regression Results                  \n",
       "==============================================================================\n",
       "Dep. Variable:                 TARGET   No. Observations:                 8957\n",
       "Model:                            GLM   Df Residuals:                     8947\n",
       "Model Family:        NegativeBinomial   Df Model:                            9\n",
       "Link Function:                    log   Scale:                  0.334995619264\n",
       "Method:                          IRLS   Log-Likelihood:                -19362.\n",
       "Date:                Wed, 08 Mar 2017   Deviance:                       4506.9\n",
       "Time:                        23:24:57   Pearson chi2:                 3.00e+03\n",
       "No. Iterations:                     8                                         \n",
       "======================================================================================\n",
       "                         coef    std err          z      P>|z|      [95.0% Conf. Int.]\n",
       "--------------------------------------------------------------------------------------\n",
       "const                  1.7134      0.058     29.781      0.000         1.601     1.826\n",
       "AcidIndex             -0.1174      0.006    -19.129      0.000        -0.129    -0.105\n",
       "ALCOHOL                0.0032      0.002      1.550      0.121        -0.001     0.007\n",
       "CHLORIDES             -0.0575      0.024     -2.396      0.017        -0.105    -0.010\n",
       "LabelAppeal            0.1469      0.009     17.012      0.000         0.130     0.164\n",
       "STARS                  0.2054      0.009     21.798      0.000         0.187     0.224\n",
       "SULPHATES             -0.0225      0.008     -2.646      0.008        -0.039    -0.006\n",
       "totalsulfurdioxide     0.0001   3.32e-05      4.031      0.000      6.88e-05     0.000\n",
       "VolatileAcidity       -0.0416      0.010     -4.301      0.000        -0.061    -0.023\n",
       "m_STARS               -1.0104      0.018    -54.736      0.000        -1.047    -0.974\n",
       "======================================================================================\n",
       "\"\"\""
      ]
     },
     "execution_count": 639,
     "metadata": {},
     "output_type": "execute_result"
    }
   ],
   "source": [
    "X_train=X_train[['AcidIndex','ALCOHOL','CHLORIDES','LabelAppeal','STARS','SULPHATES',\n",
    "               'totalsulfurdioxide','VolatileAcidity','m_STARS' ]]\n",
    "X_test=X_test[['AcidIndex','ALCOHOL','CHLORIDES','LabelAppeal','STARS','SULPHATES',\n",
    "               'totalsulfurdioxide','VolatileAcidity','m_STARS' ]]\n",
    "X_train = sm.add_constant(X_train)\n",
    "X_test = sm.add_constant(X_test)\n",
    "nb=sm.GLM(Y_train, X_train,family=sm.families.NegativeBinomial()).fit()\n",
    "nb.summary()"
   ]
  },
  {
   "cell_type": "code",
   "execution_count": 640,
   "metadata": {
    "collapsed": false
   },
   "outputs": [
    {
     "name": "stdout",
     "output_type": "stream",
     "text": [
      "AIC 38743.847874 \n",
      "BIC -76912.490933\n"
     ]
    }
   ],
   "source": [
    "print 'AIC %f \\nBIC %f' %(nb.aic, nb.bic)"
   ]
  },
  {
   "cell_type": "code",
   "execution_count": 641,
   "metadata": {
    "collapsed": false
   },
   "outputs": [
    {
     "data": {
      "text/plain": [
       "1.3454503828406861"
      ]
     },
     "execution_count": 641,
     "metadata": {},
     "output_type": "execute_result"
    }
   ],
   "source": [
    "Y_pred=nb.predict(X_test)\n",
    "rmse(Y_test,Y_pred)"
   ]
  },
  {
   "cell_type": "markdown",
   "metadata": {},
   "source": [
    "# Poisson_Logit Hurdle Model"
   ]
  },
  {
   "cell_type": "markdown",
   "metadata": {},
   "source": [
    "I've decided to just use the train/test splits inside this jupyter notebook, rather than the same ones as those created in sas, for this model (which is not in my final report)."
   ]
  },
  {
   "cell_type": "code",
   "execution_count": 647,
   "metadata": {
    "collapsed": false
   },
   "outputs": [],
   "source": [
    "Xcon=sm.add_constant(X)\n",
    "Y_hurdle=pd.DataFrame(Y)\n",
    "f=lambda x: 1 if x>0 else 0\n",
    "Y_hurdle['FLAG']=Y_hurdle.applymap(f)\n",
    "Y_hurdle_pois=(Y_hurdle[Y_hurdle.iloc[:,0]>0].TARGET)-1\n",
    "Y_hurdle_pois_test=Y_hurdle.TARGET\n",
    "X_hurdle_pois=Xcon[Xcon.index.isin(Y_hurdle_pois.index)]\n",
    "Y_hurdle_log=Y_hurdle.FLAG"
   ]
  },
  {
   "cell_type": "markdown",
   "metadata": {},
   "source": [
    "### Logistic Regression for Hurdle Model"
   ]
  },
  {
   "cell_type": "code",
   "execution_count": 648,
   "metadata": {
    "collapsed": false
   },
   "outputs": [
    {
     "name": "stdout",
     "output_type": "stream",
     "text": [
      "Optimization terminated successfully.\n",
      "         Current function value: 0.306033\n",
      "         Iterations 8\n"
     ]
    },
    {
     "data": {
      "text/html": [
       "<table class=\"simpletable\">\n",
       "<caption>Logit Regression Results</caption>\n",
       "<tr>\n",
       "  <th>Dep. Variable:</th>       <td>FLAG</td>       <th>  No. Observations:  </th>  <td>  8956</td> \n",
       "</tr>\n",
       "<tr>\n",
       "  <th>Model:</th>               <td>Logit</td>      <th>  Df Residuals:      </th>  <td>  8933</td> \n",
       "</tr>\n",
       "<tr>\n",
       "  <th>Method:</th>               <td>MLE</td>       <th>  Df Model:          </th>  <td>    22</td> \n",
       "</tr>\n",
       "<tr>\n",
       "  <th>Date:</th>          <td>Wed, 08 Mar 2017</td> <th>  Pseudo R-squ.:     </th>  <td>0.4185</td> \n",
       "</tr>\n",
       "<tr>\n",
       "  <th>Time:</th>              <td>23:25:48</td>     <th>  Log-Likelihood:    </th> <td> -2740.8</td>\n",
       "</tr>\n",
       "<tr>\n",
       "  <th>converged:</th>           <td>True</td>       <th>  LL-Null:           </th> <td> -4713.5</td>\n",
       "</tr>\n",
       "<tr>\n",
       "  <th> </th>                      <td> </td>        <th>  LLR p-value:       </th>  <td> 0.000</td> \n",
       "</tr>\n",
       "</table>\n",
       "<table class=\"simpletable\">\n",
       "<tr>\n",
       "            <td></td>              <th>coef</th>     <th>std err</th>      <th>z</th>      <th>P>|z|</th> <th>[95.0% Conf. Int.]</th> \n",
       "</tr>\n",
       "<tr>\n",
       "  <th>const</th>                <td>    3.8882</td> <td>    1.366</td> <td>    2.847</td> <td> 0.004</td> <td>    1.212     6.565</td>\n",
       "</tr>\n",
       "<tr>\n",
       "  <th>FixedAcidity</th>         <td>   -0.0082</td> <td>    0.006</td> <td>   -1.433</td> <td> 0.152</td> <td>   -0.019     0.003</td>\n",
       "</tr>\n",
       "<tr>\n",
       "  <th>VolatileAcidity</th>      <td>   -0.3374</td> <td>    0.046</td> <td>   -7.412</td> <td> 0.000</td> <td>   -0.427    -0.248</td>\n",
       "</tr>\n",
       "<tr>\n",
       "  <th>CitricAcid</th>           <td>   -0.0337</td> <td>    0.041</td> <td>   -0.819</td> <td> 0.413</td> <td>   -0.114     0.047</td>\n",
       "</tr>\n",
       "<tr>\n",
       "  <th>ResidualSugar</th>        <td>-9.268e-05</td> <td>    0.001</td> <td>   -0.084</td> <td> 0.933</td> <td>   -0.002     0.002</td>\n",
       "</tr>\n",
       "<tr>\n",
       "  <th>Chlorides</th>            <td>   -0.4319</td> <td>    0.110</td> <td>   -3.914</td> <td> 0.000</td> <td>   -0.648    -0.216</td>\n",
       "</tr>\n",
       "<tr>\n",
       "  <th>FreeSulfurDioxide</th>    <td>-2.411e-05</td> <td>    0.000</td> <td>   -0.096</td> <td> 0.924</td> <td>   -0.001     0.000</td>\n",
       "</tr>\n",
       "<tr>\n",
       "  <th>TotalSulfurDioxide</th>   <td>    0.0005</td> <td>    0.000</td> <td>    3.351</td> <td> 0.001</td> <td>    0.000     0.001</td>\n",
       "</tr>\n",
       "<tr>\n",
       "  <th>Density</th>              <td>    0.5617</td> <td>    1.346</td> <td>    0.417</td> <td> 0.676</td> <td>   -2.076     3.200</td>\n",
       "</tr>\n",
       "<tr>\n",
       "  <th>pH</th>                   <td>   -0.2507</td> <td>    0.052</td> <td>   -4.810</td> <td> 0.000</td> <td>   -0.353    -0.149</td>\n",
       "</tr>\n",
       "<tr>\n",
       "  <th>Sulphates</th>            <td>   -0.1992</td> <td>    0.040</td> <td>   -4.940</td> <td> 0.000</td> <td>   -0.278    -0.120</td>\n",
       "</tr>\n",
       "<tr>\n",
       "  <th>Alcohol</th>              <td>   -0.0243</td> <td>    0.010</td> <td>   -2.479</td> <td> 0.013</td> <td>   -0.043    -0.005</td>\n",
       "</tr>\n",
       "<tr>\n",
       "  <th>LabelAppeal</th>          <td>   -0.4967</td> <td>    0.040</td> <td>  -12.327</td> <td> 0.000</td> <td>   -0.576    -0.418</td>\n",
       "</tr>\n",
       "<tr>\n",
       "  <th>AcidIndex</th>            <td>   -0.4188</td> <td>    0.026</td> <td>  -15.904</td> <td> 0.000</td> <td>   -0.470    -0.367</td>\n",
       "</tr>\n",
       "<tr>\n",
       "  <th>STARS</th>                <td>    1.7725</td> <td>    0.086</td> <td>   20.676</td> <td> 0.000</td> <td>    1.604     1.940</td>\n",
       "</tr>\n",
       "<tr>\n",
       "  <th>m_ResidualSugar</th>      <td>   -0.0770</td> <td>    0.156</td> <td>   -0.494</td> <td> 0.621</td> <td>   -0.382     0.228</td>\n",
       "</tr>\n",
       "<tr>\n",
       "  <th>m_Chlorides</th>          <td>   -0.2352</td> <td>    0.166</td> <td>   -1.417</td> <td> 0.157</td> <td>   -0.561     0.090</td>\n",
       "</tr>\n",
       "<tr>\n",
       "  <th>m_FreeSulfurDioxide</th>  <td>   -0.1256</td> <td>    0.155</td> <td>   -0.809</td> <td> 0.418</td> <td>   -0.430     0.179</td>\n",
       "</tr>\n",
       "<tr>\n",
       "  <th>m_TotalSulfurDioxide</th> <td>    0.2064</td> <td>    0.152</td> <td>    1.357</td> <td> 0.175</td> <td>   -0.092     0.504</td>\n",
       "</tr>\n",
       "<tr>\n",
       "  <th>m_pH</th>                 <td>   -0.9189</td> <td>    0.240</td> <td>   -3.824</td> <td> 0.000</td> <td>   -1.390    -0.448</td>\n",
       "</tr>\n",
       "<tr>\n",
       "  <th>m_Sulphates</th>          <td>   -0.2889</td> <td>    0.111</td> <td>   -2.610</td> <td> 0.009</td> <td>   -0.506    -0.072</td>\n",
       "</tr>\n",
       "<tr>\n",
       "  <th>m_Alcohol</th>            <td>   -0.2811</td> <td>    0.182</td> <td>   -1.547</td> <td> 0.122</td> <td>   -0.637     0.075</td>\n",
       "</tr>\n",
       "<tr>\n",
       "  <th>m_STARS</th>              <td>   -1.0182</td> <td>    0.101</td> <td>  -10.093</td> <td> 0.000</td> <td>   -1.216    -0.820</td>\n",
       "</tr>\n",
       "</table>"
      ],
      "text/plain": [
       "<class 'statsmodels.iolib.summary.Summary'>\n",
       "\"\"\"\n",
       "                           Logit Regression Results                           \n",
       "==============================================================================\n",
       "Dep. Variable:                   FLAG   No. Observations:                 8956\n",
       "Model:                          Logit   Df Residuals:                     8933\n",
       "Method:                           MLE   Df Model:                           22\n",
       "Date:                Wed, 08 Mar 2017   Pseudo R-squ.:                  0.4185\n",
       "Time:                        23:25:48   Log-Likelihood:                -2740.8\n",
       "converged:                       True   LL-Null:                       -4713.5\n",
       "                                        LLR p-value:                     0.000\n",
       "========================================================================================\n",
       "                           coef    std err          z      P>|z|      [95.0% Conf. Int.]\n",
       "----------------------------------------------------------------------------------------\n",
       "const                    3.8882      1.366      2.847      0.004         1.212     6.565\n",
       "FixedAcidity            -0.0082      0.006     -1.433      0.152        -0.019     0.003\n",
       "VolatileAcidity         -0.3374      0.046     -7.412      0.000        -0.427    -0.248\n",
       "CitricAcid              -0.0337      0.041     -0.819      0.413        -0.114     0.047\n",
       "ResidualSugar        -9.268e-05      0.001     -0.084      0.933        -0.002     0.002\n",
       "Chlorides               -0.4319      0.110     -3.914      0.000        -0.648    -0.216\n",
       "FreeSulfurDioxide    -2.411e-05      0.000     -0.096      0.924        -0.001     0.000\n",
       "TotalSulfurDioxide       0.0005      0.000      3.351      0.001         0.000     0.001\n",
       "Density                  0.5617      1.346      0.417      0.676        -2.076     3.200\n",
       "pH                      -0.2507      0.052     -4.810      0.000        -0.353    -0.149\n",
       "Sulphates               -0.1992      0.040     -4.940      0.000        -0.278    -0.120\n",
       "Alcohol                 -0.0243      0.010     -2.479      0.013        -0.043    -0.005\n",
       "LabelAppeal             -0.4967      0.040    -12.327      0.000        -0.576    -0.418\n",
       "AcidIndex               -0.4188      0.026    -15.904      0.000        -0.470    -0.367\n",
       "STARS                    1.7725      0.086     20.676      0.000         1.604     1.940\n",
       "m_ResidualSugar         -0.0770      0.156     -0.494      0.621        -0.382     0.228\n",
       "m_Chlorides             -0.2352      0.166     -1.417      0.157        -0.561     0.090\n",
       "m_FreeSulfurDioxide     -0.1256      0.155     -0.809      0.418        -0.430     0.179\n",
       "m_TotalSulfurDioxide     0.2064      0.152      1.357      0.175        -0.092     0.504\n",
       "m_pH                    -0.9189      0.240     -3.824      0.000        -1.390    -0.448\n",
       "m_Sulphates             -0.2889      0.111     -2.610      0.009        -0.506    -0.072\n",
       "m_Alcohol               -0.2811      0.182     -1.547      0.122        -0.637     0.075\n",
       "m_STARS                 -1.0182      0.101    -10.093      0.000        -1.216    -0.820\n",
       "========================================================================================\n",
       "\"\"\""
      ]
     },
     "execution_count": 648,
     "metadata": {},
     "output_type": "execute_result"
    }
   ],
   "source": [
    "X_train, X_test, Y_train, Y_test = sklearn.model_selection.train_test_split\\\n",
    "(Xcon, Y_hurdle_log, test_size=0.30, random_state = 5)\n",
    "log_hurdle=sm.Logit(Y_train, X_train).fit()\n",
    "log_hurdle.summary()"
   ]
  },
  {
   "cell_type": "code",
   "execution_count": 649,
   "metadata": {
    "collapsed": false,
    "scrolled": true
   },
   "outputs": [],
   "source": [
    "Ypred_log_hurdle=log_hurdle.predict(X_test)"
   ]
  },
  {
   "cell_type": "markdown",
   "metadata": {},
   "source": [
    "### Poisson Regression for Hurdle Model"
   ]
  },
  {
   "cell_type": "code",
   "execution_count": 650,
   "metadata": {
    "collapsed": false
   },
   "outputs": [
    {
     "data": {
      "text/html": [
       "<table class=\"simpletable\">\n",
       "<caption>Generalized Linear Model Regression Results</caption>\n",
       "<tr>\n",
       "  <th>Dep. Variable:</th>       <td>TARGET</td>      <th>  No. Observations:  </th>  <td>  7042</td> \n",
       "</tr>\n",
       "<tr>\n",
       "  <th>Model:</th>                 <td>GLM</td>       <th>  Df Residuals:      </th>  <td>  7019</td> \n",
       "</tr>\n",
       "<tr>\n",
       "  <th>Model Family:</th>        <td>Poisson</td>     <th>  Df Model:          </th>  <td>    22</td> \n",
       "</tr>\n",
       "<tr>\n",
       "  <th>Link Function:</th>         <td>log</td>       <th>  Scale:             </th>    <td>1.0</td>  \n",
       "</tr>\n",
       "<tr>\n",
       "  <th>Method:</th>               <td>IRLS</td>       <th>  Log-Likelihood:    </th> <td> -10927.</td>\n",
       "</tr>\n",
       "<tr>\n",
       "  <th>Date:</th>           <td>Wed, 08 Mar 2017</td> <th>  Deviance:          </th> <td>  2022.9</td>\n",
       "</tr>\n",
       "<tr>\n",
       "  <th>Time:</th>               <td>23:25:54</td>     <th>  Pearson chi2:      </th> <td>1.80e+03</td>\n",
       "</tr>\n",
       "<tr>\n",
       "  <th>No. Iterations:</th>         <td>7</td>        <th>                     </th>     <td> </td>   \n",
       "</tr>\n",
       "</table>\n",
       "<table class=\"simpletable\">\n",
       "<tr>\n",
       "            <td></td>              <th>coef</th>     <th>std err</th>      <th>z</th>      <th>P>|z|</th> <th>[95.0% Conf. Int.]</th> \n",
       "</tr>\n",
       "<tr>\n",
       "  <th>const</th>                <td>    1.1613</td> <td>    0.283</td> <td>    4.110</td> <td> 0.000</td> <td>    0.608     1.715</td>\n",
       "</tr>\n",
       "<tr>\n",
       "  <th>FixedAcidity</th>         <td>    0.0007</td> <td>    0.001</td> <td>    0.553</td> <td> 0.580</td> <td>   -0.002     0.003</td>\n",
       "</tr>\n",
       "<tr>\n",
       "  <th>VolatileAcidity</th>      <td>   -0.0113</td> <td>    0.009</td> <td>   -1.203</td> <td> 0.229</td> <td>   -0.030     0.007</td>\n",
       "</tr>\n",
       "<tr>\n",
       "  <th>CitricAcid</th>           <td>   -0.0039</td> <td>    0.008</td> <td>   -0.468</td> <td> 0.640</td> <td>   -0.020     0.013</td>\n",
       "</tr>\n",
       "<tr>\n",
       "  <th>ResidualSugar</th>        <td>   -0.0001</td> <td>    0.000</td> <td>   -0.551</td> <td> 0.582</td> <td>   -0.001     0.000</td>\n",
       "</tr>\n",
       "<tr>\n",
       "  <th>Chlorides</th>            <td>   -0.0176</td> <td>    0.023</td> <td>   -0.771</td> <td> 0.441</td> <td>   -0.062     0.027</td>\n",
       "</tr>\n",
       "<tr>\n",
       "  <th>FreeSulfurDioxide</th>    <td> 4.229e-05</td> <td> 4.99e-05</td> <td>    0.847</td> <td> 0.397</td> <td>-5.56e-05     0.000</td>\n",
       "</tr>\n",
       "<tr>\n",
       "  <th>TotalSulfurDioxide</th>   <td>-2.943e-05</td> <td> 3.32e-05</td> <td>   -0.887</td> <td> 0.375</td> <td>-9.45e-05  3.56e-05</td>\n",
       "</tr>\n",
       "<tr>\n",
       "  <th>Density</th>              <td>   -0.3731</td> <td>    0.277</td> <td>   -1.347</td> <td> 0.178</td> <td>   -0.916     0.170</td>\n",
       "</tr>\n",
       "<tr>\n",
       "  <th>pH</th>                   <td>    0.0125</td> <td>    0.011</td> <td>    1.167</td> <td> 0.243</td> <td>   -0.009     0.034</td>\n",
       "</tr>\n",
       "<tr>\n",
       "  <th>Sulphates</th>            <td>   -0.0003</td> <td>    0.008</td> <td>   -0.030</td> <td> 0.976</td> <td>   -0.017     0.016</td>\n",
       "</tr>\n",
       "<tr>\n",
       "  <th>Alcohol</th>              <td>    0.0100</td> <td>    0.002</td> <td>    4.902</td> <td> 0.000</td> <td>    0.006     0.014</td>\n",
       "</tr>\n",
       "<tr>\n",
       "  <th>LabelAppeal</th>          <td>    0.2966</td> <td>    0.009</td> <td>   34.216</td> <td> 0.000</td> <td>    0.280     0.314</td>\n",
       "</tr>\n",
       "<tr>\n",
       "  <th>AcidIndex</th>            <td>   -0.0214</td> <td>    0.007</td> <td>   -3.107</td> <td> 0.002</td> <td>   -0.035    -0.008</td>\n",
       "</tr>\n",
       "<tr>\n",
       "  <th>STARS</th>                <td>    0.1205</td> <td>    0.009</td> <td>   14.078</td> <td> 0.000</td> <td>    0.104     0.137</td>\n",
       "</tr>\n",
       "<tr>\n",
       "  <th>m_ResidualSugar</th>      <td>    0.0205</td> <td>    0.032</td> <td>    0.642</td> <td> 0.521</td> <td>   -0.042     0.083</td>\n",
       "</tr>\n",
       "<tr>\n",
       "  <th>m_Chlorides</th>          <td>    0.0108</td> <td>    0.035</td> <td>    0.305</td> <td> 0.760</td> <td>   -0.059     0.080</td>\n",
       "</tr>\n",
       "<tr>\n",
       "  <th>m_FreeSulfurDioxide</th>  <td>    0.0043</td> <td>    0.033</td> <td>    0.130</td> <td> 0.897</td> <td>   -0.060     0.069</td>\n",
       "</tr>\n",
       "<tr>\n",
       "  <th>m_TotalSulfurDioxide</th> <td>    0.0055</td> <td>    0.032</td> <td>    0.173</td> <td> 0.863</td> <td>   -0.056     0.067</td>\n",
       "</tr>\n",
       "<tr>\n",
       "  <th>m_pH</th>                 <td>    0.0383</td> <td>    0.051</td> <td>    0.747</td> <td> 0.455</td> <td>   -0.062     0.139</td>\n",
       "</tr>\n",
       "<tr>\n",
       "  <th>m_Sulphates</th>          <td>   -0.0105</td> <td>    0.024</td> <td>   -0.438</td> <td> 0.661</td> <td>   -0.057     0.036</td>\n",
       "</tr>\n",
       "<tr>\n",
       "  <th>m_Alcohol</th>            <td>    0.1041</td> <td>    0.039</td> <td>    2.701</td> <td> 0.007</td> <td>    0.029     0.180</td>\n",
       "</tr>\n",
       "<tr>\n",
       "  <th>m_STARS</th>              <td>   -0.0183</td> <td>    0.029</td> <td>   -0.636</td> <td> 0.525</td> <td>   -0.075     0.038</td>\n",
       "</tr>\n",
       "</table>"
      ],
      "text/plain": [
       "<class 'statsmodels.iolib.summary.Summary'>\n",
       "\"\"\"\n",
       "                 Generalized Linear Model Regression Results                  \n",
       "==============================================================================\n",
       "Dep. Variable:                 TARGET   No. Observations:                 7042\n",
       "Model:                            GLM   Df Residuals:                     7019\n",
       "Model Family:                 Poisson   Df Model:                           22\n",
       "Link Function:                    log   Scale:                             1.0\n",
       "Method:                          IRLS   Log-Likelihood:                -10927.\n",
       "Date:                Wed, 08 Mar 2017   Deviance:                       2022.9\n",
       "Time:                        23:25:54   Pearson chi2:                 1.80e+03\n",
       "No. Iterations:                     7                                         \n",
       "========================================================================================\n",
       "                           coef    std err          z      P>|z|      [95.0% Conf. Int.]\n",
       "----------------------------------------------------------------------------------------\n",
       "const                    1.1613      0.283      4.110      0.000         0.608     1.715\n",
       "FixedAcidity             0.0007      0.001      0.553      0.580        -0.002     0.003\n",
       "VolatileAcidity         -0.0113      0.009     -1.203      0.229        -0.030     0.007\n",
       "CitricAcid              -0.0039      0.008     -0.468      0.640        -0.020     0.013\n",
       "ResidualSugar           -0.0001      0.000     -0.551      0.582        -0.001     0.000\n",
       "Chlorides               -0.0176      0.023     -0.771      0.441        -0.062     0.027\n",
       "FreeSulfurDioxide     4.229e-05   4.99e-05      0.847      0.397     -5.56e-05     0.000\n",
       "TotalSulfurDioxide   -2.943e-05   3.32e-05     -0.887      0.375     -9.45e-05  3.56e-05\n",
       "Density                 -0.3731      0.277     -1.347      0.178        -0.916     0.170\n",
       "pH                       0.0125      0.011      1.167      0.243        -0.009     0.034\n",
       "Sulphates               -0.0003      0.008     -0.030      0.976        -0.017     0.016\n",
       "Alcohol                  0.0100      0.002      4.902      0.000         0.006     0.014\n",
       "LabelAppeal              0.2966      0.009     34.216      0.000         0.280     0.314\n",
       "AcidIndex               -0.0214      0.007     -3.107      0.002        -0.035    -0.008\n",
       "STARS                    0.1205      0.009     14.078      0.000         0.104     0.137\n",
       "m_ResidualSugar          0.0205      0.032      0.642      0.521        -0.042     0.083\n",
       "m_Chlorides              0.0108      0.035      0.305      0.760        -0.059     0.080\n",
       "m_FreeSulfurDioxide      0.0043      0.033      0.130      0.897        -0.060     0.069\n",
       "m_TotalSulfurDioxide     0.0055      0.032      0.173      0.863        -0.056     0.067\n",
       "m_pH                     0.0383      0.051      0.747      0.455        -0.062     0.139\n",
       "m_Sulphates             -0.0105      0.024     -0.438      0.661        -0.057     0.036\n",
       "m_Alcohol                0.1041      0.039      2.701      0.007         0.029     0.180\n",
       "m_STARS                 -0.0183      0.029     -0.636      0.525        -0.075     0.038\n",
       "========================================================================================\n",
       "\"\"\""
      ]
     },
     "execution_count": 650,
     "metadata": {},
     "output_type": "execute_result"
    }
   ],
   "source": [
    "X_train, X_test, Y_train, Y_test = sklearn.model_selection.train_test_split\\\n",
    "(X_hurdle_pois, Y_hurdle_pois, test_size=0.30, random_state = 5)\n",
    "\n",
    "pois_hurdle=sm.GLM(Y_train, X_train,family=sm.families.Poisson()).fit()\n",
    "pois_hurdle.summary()"
   ]
  },
  {
   "cell_type": "code",
   "execution_count": 651,
   "metadata": {
    "collapsed": false
   },
   "outputs": [],
   "source": [
    "X_train, X_test, Y_train, Y_test = sklearn.model_selection.train_test_split\\\n",
    "(Xcon, Y_hurdle_pois_test, test_size=0.30, random_state = 5)\n",
    "\n",
    "Ypred_pois_hurdle=pois_hurdle.predict(X_test)+1"
   ]
  },
  {
   "cell_type": "code",
   "execution_count": 652,
   "metadata": {
    "collapsed": false
   },
   "outputs": [
    {
     "data": {
      "text/plain": [
       "1.3133560711108248"
      ]
     },
     "execution_count": 652,
     "metadata": {},
     "output_type": "execute_result"
    }
   ],
   "source": [
    "Y_pred=Ypred_pois_hurdle*Ypred_log_hurdle\n",
    "rmse(Y_test,Y_pred)"
   ]
  },
  {
   "cell_type": "markdown",
   "metadata": {},
   "source": [
    "# Random Forests"
   ]
  },
  {
   "cell_type": "code",
   "execution_count": 653,
   "metadata": {
    "collapsed": true
   },
   "outputs": [
    {
     "data": {
      "text/plain": [
       "(RandomForestRegressor(bootstrap=True, criterion='mse', max_depth=None,\n",
       "            max_features=0.5, max_leaf_nodes=None, min_impurity_split=1e-07,\n",
       "            min_samples_leaf=1, min_samples_split=2,\n",
       "            min_weight_fraction_leaf=0.0, n_estimators=300, n_jobs=1,\n",
       "            oob_score=True, random_state=5, verbose=0, warm_start=True),\n",
       " {'max_features': 0.5},\n",
       " -1.5633955478644883,\n",
       " {'mean_fit_time': array([  5.43376155,   5.20734034,   9.79357405,  14.46642976]),\n",
       "  'mean_score_time': array([ 0.29752417,  0.28315759,  0.31575952,  0.27301221]),\n",
       "  'mean_test_score': array([-1.58529191, -1.58529191, -1.56339555, -1.58940021]),\n",
       "  'mean_train_score': array([-0.2160372 , -0.2160372 , -0.21361357, -0.216448  ]),\n",
       "  'param_max_features': masked_array(data = ['sqrt' 0.2 0.5 0.8],\n",
       "               mask = [False False False False],\n",
       "         fill_value = ?),\n",
       "  'params': ({'max_features': 'sqrt'},\n",
       "   {'max_features': 0.2},\n",
       "   {'max_features': 0.5},\n",
       "   {'max_features': 0.8}),\n",
       "  'rank_test_score': array([2, 2, 1, 4], dtype=int32),\n",
       "  'split0_test_score': array([-1.65036373, -1.65036373, -1.61998129, -1.64668757]),\n",
       "  'split0_train_score': array([-0.21219892, -0.21219892, -0.20988002, -0.2136055 ]),\n",
       "  'split1_test_score': array([-1.69806005, -1.69806005, -1.69664513, -1.70527099]),\n",
       "  'split1_train_score': array([-0.2115492 , -0.2115492 , -0.20911419, -0.20978685]),\n",
       "  'split2_test_score': array([-1.50916291, -1.50916291, -1.47189569, -1.49986087]),\n",
       "  'split2_train_score': array([-0.21881098, -0.21881098, -0.21753016, -0.22187702]),\n",
       "  'split3_test_score': array([-1.57952488, -1.57952488, -1.55694658, -1.57971368]),\n",
       "  'split3_train_score': array([-0.21668961, -0.21668961, -0.21317868, -0.21557435]),\n",
       "  'split4_test_score': array([-1.48924871, -1.48924871, -1.47140305, -1.51537128]),\n",
       "  'split4_train_score': array([-0.2209373 , -0.2209373 , -0.21836479, -0.2213963 ]),\n",
       "  'std_fit_time': array([ 0.16459263,  0.08291593,  0.15914161,  0.06111248]),\n",
       "  'std_score_time': array([ 0.00832653,  0.00929198,  0.06335465,  0.00523852]),\n",
       "  'std_test_score': array([ 0.08000811,  0.08000811,  0.0869909 ,  0.07784837]),\n",
       "  'std_train_score': array([ 0.00366074,  0.00366074,  0.00380228,  0.00462977])})"
      ]
     },
     "execution_count": 653,
     "metadata": {},
     "output_type": "execute_result"
    }
   ],
   "source": [
    "X_train=wine_train.drop(['Selected','INDEX','TARGET','m_totalsulfurdioxide'],axis=1)\n",
    "X_test=wine_test.drop(['Selected','INDEX','TARGET','m_totalsulfurdioxide'],axis=1)\n",
    "Y_train=wine_train['TARGET']\n",
    "Y_test=wine_test['TARGET']\n",
    "\n",
    "from sklearn.model_selection import GridSearchCV\n",
    "RANDOM_STATE=5\n",
    "clf=RandomForestRegressor(warm_start=True, oob_score=True,random_state=RANDOM_STATE,\n",
    "                         n_estimators=300)\n",
    "parameters={\"max_features\":['sqrt',.2,.5,.8]}\n",
    "fitmodel = GridSearchCV(clf, param_grid=parameters, cv=5, scoring=\"neg_mean_squared_error\")\n",
    "fitmodel.fit(X_train, Y_train)\n",
    "fitmodel.best_estimator_, fitmodel.best_params_, fitmodel.best_score_, fitmodel.cv_results_"
   ]
  },
  {
   "cell_type": "code",
   "execution_count": 654,
   "metadata": {
    "collapsed": false
   },
   "outputs": [],
   "source": [
    "rf=RandomForestRegressor(warm_start=True, oob_score=True,random_state=RANDOM_STATE,\n",
    "                         n_estimators=300, max_features=fitmodel.best_params_['max_features'])\n",
    "rf.fit(X_train,Y_train)\n",
    "pickle.dump(rf, open('Wine_RF.sav', 'wb'))"
   ]
  },
  {
   "cell_type": "code",
   "execution_count": 655,
   "metadata": {
    "collapsed": false
   },
   "outputs": [
    {
     "data": {
      "text/plain": [
       "1.2557266459761958"
      ]
     },
     "execution_count": 655,
     "metadata": {},
     "output_type": "execute_result"
    }
   ],
   "source": [
    "rf = pickle.load(open('Wine_RF.sav', 'rb'))\n",
    "Y_pred=rf.predict(X_test)\n",
    "rmse(Y_test,Y_pred)"
   ]
  },
  {
   "cell_type": "code",
   "execution_count": 662,
   "metadata": {
    "collapsed": false
   },
   "outputs": [
    {
     "data": {
      "text/plain": [
       "<matplotlib.axes._subplots.AxesSubplot at 0x12295c990>"
      ]
     },
     "execution_count": 662,
     "metadata": {},
     "output_type": "execute_result"
    },
    {
     "data": {
      "image/png": "[encoded data removed]",
      "text/plain": [
       "<matplotlib.figure.Figure at 0x14271c550>"
      ]
     },
     "metadata": {},
     "output_type": "display_data"
    }
   ],
   "source": [
    "feat_imp = pd.Series(rf.feature_importances_, index=X_train.columns)\n",
    "feat_imp.sort_values(inplace=True, ascending=True)\n",
    "feat_imp.plot(kind='barh', title='Feature importance')"
   ]
  },
  {
   "cell_type": "markdown",
   "metadata": {},
   "source": [
    "# Gradient Boosted Regression Trees"
   ]
  },
  {
   "cell_type": "code",
   "execution_count": 666,
   "metadata": {
    "collapsed": true
   },
   "outputs": [
    {
     "data": {
      "text/plain": [
       "(GradientBoostingRegressor(alpha=0.9, criterion='friedman_mse', init=None,\n",
       "              learning_rate=0.02, loss='ls', max_depth=6, max_features=0.6,\n",
       "              max_leaf_nodes=None, min_impurity_split=1e-07,\n",
       "              min_samples_leaf=1, min_samples_split=2,\n",
       "              min_weight_fraction_leaf=0.0, n_estimators=300,\n",
       "              presort='auto', random_state=5, subsample=0.75, verbose=0,\n",
       "              warm_start=False),\n",
       " {'learning_rate': 0.02},\n",
       " -1.5242187616544787,\n",
       " {'mean_fit_time': array([ 5.00875101,  4.43136249,  4.40703559,  4.26528597,  4.15385437,\n",
       "          4.04775252,  4.09359641,  4.06653638,  3.93594179]),\n",
       "  'mean_score_time': array([ 0.03083043,  0.02670979,  0.02473121,  0.02481184,  0.0239778 ,\n",
       "          0.02347612,  0.02257223,  0.02194638,  0.02129717]),\n",
       "  'mean_test_score': array([-1.59487309, -1.54880496, -1.5328009 , -1.52541973, -1.52421876,\n",
       "         -1.52454568, -1.52711543, -1.53208758, -1.53828586]),\n",
       "  'mean_train_score': array([-1.31399567, -1.15717625, -1.05429469, -0.97263974, -0.90315174,\n",
       "         -0.84202315, -0.7904154 , -0.74226082, -0.70346236]),\n",
       "  'param_learning_rate': masked_array(data = [0.006666666666666667 0.01 0.013333333333333334 0.016666666666666666 0.02\n",
       "   0.023333333333333334 0.02666666666666667 0.03 0.03333333333333333],\n",
       "               mask = [False False False False False False False False False],\n",
       "         fill_value = ?),\n",
       "  'params': ({'learning_rate': 0.006666666666666667},\n",
       "   {'learning_rate': 0.01},\n",
       "   {'learning_rate': 0.013333333333333334},\n",
       "   {'learning_rate': 0.016666666666666666},\n",
       "   {'learning_rate': 0.02},\n",
       "   {'learning_rate': 0.023333333333333334},\n",
       "   {'learning_rate': 0.02666666666666667},\n",
       "   {'learning_rate': 0.03},\n",
       "   {'learning_rate': 0.03333333333333333}),\n",
       "  'rank_test_score': array([9, 8, 6, 3, 1, 2, 4, 5, 7], dtype=int32),\n",
       "  'split0_test_score': array([-1.6627749 , -1.61397903, -1.60064987, -1.59907818, -1.59173278,\n",
       "         -1.59153163, -1.58736274, -1.60106773, -1.60076784]),\n",
       "  'split0_train_score': array([-1.30168665, -1.14305454, -1.04081429, -0.96116772, -0.89017506,\n",
       "         -0.83397273, -0.78029573, -0.73616436, -0.69523908]),\n",
       "  'split1_test_score': array([-1.68818996, -1.65777045, -1.64734604, -1.63811197, -1.6311908 ,\n",
       "         -1.63993545, -1.65944162, -1.64888198, -1.67341534]),\n",
       "  'split1_train_score': array([-1.28449369, -1.1225801 , -1.02705644, -0.94669741, -0.8763228 ,\n",
       "         -0.8208265 , -0.7735409 , -0.72296991, -0.68585074]),\n",
       "  'split2_test_score': array([-1.50849411, -1.4571437 , -1.44151636, -1.43648931, -1.43692643,\n",
       "         -1.43572198, -1.43855154, -1.44209322, -1.44203315]),\n",
       "  'split2_train_score': array([-1.33013629, -1.17683719, -1.07205108, -0.98654985, -0.92418074,\n",
       "         -0.86255012, -0.8028421 , -0.75801725, -0.71372666]),\n",
       "  'split3_test_score': array([-1.60598703, -1.55706659, -1.53043787, -1.51718764, -1.52026093,\n",
       "         -1.52275611, -1.51371766, -1.52334926, -1.52970898]),\n",
       "  'split3_train_score': array([-1.3172316 , -1.16459854, -1.05690233, -0.97889259, -0.90724854,\n",
       "         -0.84068119, -0.79396605, -0.74030506, -0.71209332]),\n",
       "  'split4_test_score': array([-1.50882945, -1.4579678 , -1.44395249, -1.43612751, -1.44088545,\n",
       "         -1.43268138, -1.43639606, -1.44494196, -1.44539363]),\n",
       "  'split4_train_score': array([-1.33643009, -1.1788109 , -1.07464933, -0.98989112, -0.91783157,\n",
       "         -0.85208518, -0.80143224, -0.7538475 , -0.71040203]),\n",
       "  'std_fit_time': array([ 0.92293946,  0.03656006,  0.1546702 ,  0.01535423,  0.04812368,\n",
       "          0.03571736,  0.06250208,  0.01677681,  0.02441693]),\n",
       "  'std_score_time': array([ 0.00531812,  0.00206751,  0.0014699 ,  0.00261748,  0.00153232,\n",
       "          0.00225251,  0.00140064,  0.00197213,  0.00168463]),\n",
       "  'std_test_score': array([ 0.07524382,  0.08104842,  0.08241223,  0.08255556,  0.0782091 ,\n",
       "          0.08262704,  0.08648292,  0.08266987,  0.08959297]),\n",
       "  'std_train_score': array([ 0.01895349,  0.02147565,  0.01822111,  0.01633898,  0.01767872,\n",
       "          0.01441186,  0.01162375,  0.01261465,  0.01100727])})"
      ]
     },
     "execution_count": 666,
     "metadata": {},
     "output_type": "execute_result"
    }
   ],
   "source": [
    "X_train=wine_train.drop(['Selected','INDEX','TARGET','m_totalsulfurdioxide'],axis=1)\n",
    "X_test=wine_test.drop(['Selected','INDEX','TARGET','m_totalsulfurdioxide'],axis=1)\n",
    "Y_train=wine_train['TARGET']\n",
    "Y_test=wine_test['TARGET']\n",
    "RANDOM_STATE=5\n",
    "parameters={'min_samples_split': 2,'n_estimators':300,'subsample':.75,\n",
    "            'random_state':RANDOM_STATE, 'max_features':.6, 'max_depth':6}\n",
    "clf = ensemble.GradientBoostingRegressor(**parameters)\n",
    "parameters_grid={'learning_rate':[x/300.0 for x in range(2,11)]}\n",
    "fitmodel = GridSearchCV(clf, param_grid=parameters_grid, cv=5, scoring=\"neg_mean_squared_error\")\n",
    "fitmodel.fit(X_train, Y_train)\n",
    "fitmodel.best_estimator_, fitmodel.best_params_, fitmodel.best_score_, fitmodel.cv_results_"
   ]
  },
  {
   "cell_type": "code",
   "execution_count": 667,
   "metadata": {
    "collapsed": false
   },
   "outputs": [],
   "source": [
    "parameters={'n_estimators': 300, \n",
    "            'max_depth': 6, \n",
    "            'min_samples_split': 2,\n",
    "            'learning_rate': fitmodel.best_params_['learning_rate'], 'loss': 'ls',\n",
    "            'subsample': .75,\n",
    "            'max_features':.6, 'random_state':RANDOM_STATE}\n",
    "gb= ensemble.GradientBoostingRegressor(**parameters)\n",
    "gb.fit(X_train,Y_train)\n",
    "pickle.dump(gb, open('Wine_GBRT.sav', 'wb'))"
   ]
  },
  {
   "cell_type": "code",
   "execution_count": 668,
   "metadata": {
    "collapsed": false
   },
   "outputs": [
    {
     "data": {
      "text/plain": [
       "1.2446930861797305"
      ]
     },
     "execution_count": 668,
     "metadata": {},
     "output_type": "execute_result"
    }
   ],
   "source": [
    "gb = pickle.load(open('Wine_GBRT.sav', 'rb'))\n",
    "Y_pred=gb.predict(X_test)\n",
    "rmse(Y_test,Y_pred)"
   ]
  },
  {
   "cell_type": "code",
   "execution_count": 669,
   "metadata": {
    "collapsed": true
   },
   "outputs": [
    {
     "data": {
      "text/plain": [
       "<matplotlib.axes._subplots.AxesSubplot at 0x1378af9d0>"
      ]
     },
     "execution_count": 669,
     "metadata": {},
     "output_type": "execute_result"
    },
    {
     "data": {
      "image/png": "[encoded data removed]",
      "text/plain": [
       "<matplotlib.figure.Figure at 0x1376725d0>"
      ]
     },
     "metadata": {},
     "output_type": "display_data"
    }
   ],
   "source": [
    "feat_imp = pd.Series(gb.feature_importances_, index=X_train.columns)\n",
    "feat_imp.sort_values(inplace=True, ascending=True)\n",
    "feat_imp.plot(kind='barh', title='Feature importance')"
   ]
  }
 ],
 "metadata": {
  "kernelspec": {
   "display_name": "Python 2",
   "language": "python",
   "name": "python2"
  },
  "language_info": {
   "codemirror_mode": {
    "name": "ipython",
    "version": 2
   },
   "file_extension": ".py",
   "mimetype": "text/x-python",
   "name": "python",
   "nbconvert_exporter": "python",
   "pygments_lexer": "ipython2",
   "version": "2.7.13"
  }
 },
 "nbformat": 4,
 "nbformat_minor": 0
}
